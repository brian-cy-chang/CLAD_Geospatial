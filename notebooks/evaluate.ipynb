{
 "cells": [
  {
   "cell_type": "markdown",
   "id": "b00b0da8-3881-4fee-9205-ab9c87ff483c",
   "metadata": {},
   "source": [
    "# Evaluate Geocoder Performance\n",
    "* Score\n",
    "* Centroid Distance"
   ]
  },
  {
   "cell_type": "code",
   "execution_count": 2,
   "id": "d0c534fb-c5a6-4def-bb48-38e3523e03aa",
   "metadata": {},
   "outputs": [],
   "source": [
    "import os\n",
    "import sys\n",
    "import re\n",
    "import csv\n",
    "\n",
    "import numpy as np\n",
    "import pandas as pd\n",
    "import spacy\n",
    "import matplotlib.pyplot as plt"
   ]
  },
  {
   "cell_type": "code",
   "execution_count": 9,
   "id": "70f65ee9-74f5-4fd7-90a6-5d53b1b6cb2b",
   "metadata": {},
   "outputs": [],
   "source": [
    "nlp = spacy.load(\"en_core_web_lg\")\n",
    "\n",
    "def text_similarity(source_address, parsed_address):\n",
    "    \"\"\"\n",
    "    Calculate cosine similarity between two strings\n",
    "\n",
    "    Parameters\n",
    "    ----------\n",
    "    source_address (str): original address string input to a geocoder\n",
    "    parsed_addres (str): returned address string from a geocoder\n",
    "\n",
    "    Returns\n",
    "    -------\n",
    "    score (float)\n",
    "    \"\"\"\n",
    "    # capitalize first letter only of each word\n",
    "    doc1 = nlp(source_address.title())\n",
    "    doc2 = nlp(parsed_address.title())\n",
    "\n",
    "    print(f\"The similarity between \\033[1m{source_address} \\033[0mand \\033[1m{parsed_address} is \\033[0m{doc1.similarity(doc2)}.\")\n",
    "    return doc1.similarity(doc2)"
   ]
  },
  {
   "cell_type": "code",
   "execution_count": 8,
   "id": "a3cf0797-2f69-4a50-942a-a3f454669e91",
   "metadata": {},
   "outputs": [],
   "source": [
    "def centroid_distance(source_centroid, predicted_centroid):\n",
    "    \"\"\"\n",
    "    Calculate Euclidean distance between two points\n",
    "\n",
    "    Parameters\n",
    "    ----------\n",
    "    source_centroid (NumPy array): (source_lat, source_lon)\n",
    "    predicted_centroid (NumPy array):(predicted_lat, predicted_lon)\n",
    "\n",
    "    Returns\n",
    "    -------\n",
    "    dist (float)\n",
    "    \"\"\"\n",
    "    dist = np.sqrt(np.sum(np.square(source_centroid - predicted_centroid)))\n",
    "\n",
    "    return dist"
   ]
  },
  {
   "cell_type": "code",
   "execution_count": null,
   "id": "b0cf303d-a8d0-40f3-8ace-cf9a97520142",
   "metadata": {},
   "outputs": [],
   "source": []
  }
 ],
 "metadata": {
  "kernelspec": {
   "display_name": "Python 3 (ipykernel)",
   "language": "python",
   "name": "python3"
  },
  "language_info": {
   "codemirror_mode": {
    "name": "ipython",
    "version": 3
   },
   "file_extension": ".py",
   "mimetype": "text/x-python",
   "name": "python",
   "nbconvert_exporter": "python",
   "pygments_lexer": "ipython3",
   "version": "3.11.7"
  }
 },
 "nbformat": 4,
 "nbformat_minor": 5
}
