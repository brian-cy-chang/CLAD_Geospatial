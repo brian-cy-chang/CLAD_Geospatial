{
 "cells": [
  {
   "cell_type": "code",
   "execution_count": 1,
   "id": "63a4366f-a8ea-4dc4-bb5d-dd81bbb447d0",
   "metadata": {},
   "outputs": [],
   "source": [
    "import os\n",
    "from os import listdir\n",
    "from os.path import isfile, join, splitext\n",
    "import sys\n",
    "import csv\n",
    "import re\n",
    "\n",
    "import numpy as np\n",
    "import pandas as pd\n",
    "import geopandas as gpd\n",
    "\n",
    "import usaddress\n",
    "\n",
    "import matplotlib.pyplot as plt"
   ]
  },
  {
   "cell_type": "markdown",
   "id": "033caf4d-d3e8-42b6-bb85-f5024dfe3765",
   "metadata": {},
   "source": [
    "# Parsing with `usaddress` module"
   ]
  },
  {
   "cell_type": "markdown",
   "id": "b3448b51-af77-4a2b-b3a1-e8a06206b51f",
   "metadata": {},
   "source": [
    "## Edge Cases"
   ]
  },
  {
   "cell_type": "code",
   "execution_count": 2,
   "id": "1b5eef17-15ba-44ec-becd-f6354f32e12c",
   "metadata": {},
   "outputs": [
    {
     "data": {
      "text/plain": [
       "(OrderedDict([('AddressNumber', '89-22'),\n",
       "              ('StreetName', '197th'),\n",
       "              ('StreetNamePostType', 'St'),\n",
       "              ('OccupancyType', 'Unit'),\n",
       "              ('OccupancyIdentifier', '2'),\n",
       "              ('PlaceName', 'Hollis'),\n",
       "              ('StateName', 'NY'),\n",
       "              ('ZipCode', '11423')]),\n",
       " 'Street Address')"
      ]
     },
     "execution_count": 2,
     "metadata": {},
     "output_type": "execute_result"
    }
   ],
   "source": [
    "# Queens, NY address with dashes in street address\n",
    "queens_ny_address = \"89-22 197th St Unit 2, Hollis, NY 11423\"\n",
    "usaddress.tag(queens_ny_address)"
   ]
  },
  {
   "cell_type": "code",
   "execution_count": 3,
   "id": "a5545bb9-d2ae-44a5-b1d5-ad7d5e92ba31",
   "metadata": {},
   "outputs": [
    {
     "data": {
      "text/plain": [
       "(OrderedDict([('AddressNumber', '220'),\n",
       "              ('StreetNamePreType', 'Camino'),\n",
       "              ('StreetName', 'Tres'),\n",
       "              ('StreetNamePostDirectional', 'SW'),\n",
       "              ('PlaceName', 'Albuquerque'),\n",
       "              ('StateName', 'NM'),\n",
       "              ('ZipCode', '87105')]),\n",
       " 'Street Address')"
      ]
     },
     "execution_count": 3,
     "metadata": {},
     "output_type": "execute_result"
    }
   ],
   "source": [
    "# Southwest address with Spanish names\n",
    "NM_address = \"220 Camino Tres SW, Albuquerque, NM 87105\"\n",
    "usaddress.tag(NM_address)"
   ]
  },
  {
   "cell_type": "code",
   "execution_count": 4,
   "id": "63b83a20-eb80-4408-8ca4-1a99916e5de3",
   "metadata": {},
   "outputs": [
    {
     "data": {
      "text/plain": [
       "(OrderedDict([('AddressNumber', '921'),\n",
       "              ('StreetName', '3385'),\n",
       "              ('StreetNamePostDirectional', 'S'),\n",
       "              ('PlaceName', 'Millcreek'),\n",
       "              ('StateName', 'UT'),\n",
       "              ('ZipCode', '84106')]),\n",
       " 'Street Address')"
      ]
     },
     "execution_count": 4,
     "metadata": {},
     "output_type": "execute_result"
    }
   ],
   "source": [
    "# grid system with no street type\n",
    "UT_address = \"921 3385 S, Millcreek, UT 84106\"\n",
    "usaddress.tag(UT_address)"
   ]
  },
  {
   "cell_type": "code",
   "execution_count": null,
   "id": "0b256b31-73a4-4fc1-a3dc-3e6dfc8d46b4",
   "metadata": {},
   "outputs": [],
   "source": []
  }
 ],
 "metadata": {
  "kernelspec": {
   "display_name": "Python 3 (ipykernel)",
   "language": "python",
   "name": "python3"
  },
  "language_info": {
   "codemirror_mode": {
    "name": "ipython",
    "version": 3
   },
   "file_extension": ".py",
   "mimetype": "text/x-python",
   "name": "python",
   "nbconvert_exporter": "python",
   "pygments_lexer": "ipython3",
   "version": "3.11.7"
  }
 },
 "nbformat": 4,
 "nbformat_minor": 5
}
