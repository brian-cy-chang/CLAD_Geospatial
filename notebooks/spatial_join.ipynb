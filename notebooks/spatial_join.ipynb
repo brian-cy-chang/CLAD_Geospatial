{
 "cells": [
  {
   "cell_type": "code",
   "execution_count": 1,
   "id": "846306b7-8d9e-464c-a388-212f9ce5296b",
   "metadata": {},
   "outputs": [],
   "source": [
    "import os\n",
    "import sys\n",
    "import re\n",
    "\n",
    "import numpy as np\n",
    "import pandas as pd\n",
    "import geopandas as gpd\n",
    "import matplotlib.pyplot as plt"
   ]
  },
  {
   "cell_type": "code",
   "execution_count": 2,
   "id": "955c0c21-ae22-49dd-8c2e-ec64fe3b8b17",
   "metadata": {},
   "outputs": [],
   "source": [
    "# list shp files recursively\n",
    "os.chdir('..')\n",
    "abs_path = os.getcwd()\n",
    "\n",
    "HIFLD_path = os.path.join(abs_path, 'output/HIFLD/centroids')\n",
    "shp_files = [os.path.join(root, name) \\\n",
    "             for root, dirs, files in os.walk(HIFLD_path) \\\n",
    "             for name in files \\\n",
    "             if name.endswith(('.shp'))]\n",
    "\n",
    "tribal_WA_folder = os.path.join(abs_path, 'data/Tribal_Lands_WA')\n",
    "tribal_WA_file = 'TribalLands.shp'\n",
    "tribal_WA_path = os.path.join(tribal_WA_folder, tribal_WA_file)"
   ]
  },
  {
   "cell_type": "code",
   "execution_count": 3,
   "id": "fddfac8d-b5df-4ec8-be71-604fc9dc75ef",
   "metadata": {},
   "outputs": [],
   "source": [
    "def read_shp(file, rows=100):\n",
    "    df = gpd.read_file(file, rows=rows)\n",
    "\n",
    "    return df"
   ]
  },
  {
   "cell_type": "code",
   "execution_count": 4,
   "id": "df349725-f458-4d40-bbad-d41efe9e803d",
   "metadata": {},
   "outputs": [],
   "source": [
    "# read files\n",
    "tribal_WA_shapes = gpd.read_file(tribal_WA_path)\n",
    "# for all shp_files\n",
    "centroids_dict = dict()\n",
    "for file in shp_files:\n",
    "    basename = os.path.basename(file).split('/')[0]\n",
    "    fname = os.path.basename(basename).split('.')[0]\n",
    "\n",
    "    # print(file)\n",
    "    df = read_shp(file, rows=2000)\n",
    "    centroids_dict[fname] = df\n",
    "    # df_address[fname]['Facility_type'] = fname"
   ]
  },
  {
   "cell_type": "code",
   "execution_count": 5,
   "id": "d54b917a-7fae-4e9f-935f-3f2c31a54d1b",
   "metadata": {},
   "outputs": [],
   "source": [
    "# convert to CRS 'EPSG:4326'\n",
    "def convert_EPSG4326(dict):\n",
    "    \"\"\"\n",
    "    dict from full_address\n",
    "    maybe want to store source data before conversion\n",
    "    \"\"\"\n",
    "    for fname in dict:\n",
    "        dict[fname] = dict[fname].to_crs(\"EPSG:4326\")\n",
    "\n",
    "    return dict"
   ]
  },
  {
   "cell_type": "code",
   "execution_count": 6,
   "id": "dd9614c8-588b-420a-89d0-c6fb4a4b3c33",
   "metadata": {},
   "outputs": [],
   "source": [
    "dict_EPSG4326 = convert_EPSG4326(centroids_dict)\n",
    "tribal_WA_shapes = tribal_WA_shapes.to_crs(\"EPSG:4326\")"
   ]
  },
  {
   "cell_type": "markdown",
   "id": "3ca08275-4c91-406e-8645-e6f6f908811d",
   "metadata": {},
   "source": [
    "# Spatial Joins"
   ]
  },
  {
   "cell_type": "code",
   "execution_count": 7,
   "id": "95a4a630-b6d7-4b46-ba1f-e06997b98e35",
   "metadata": {},
   "outputs": [],
   "source": [
    "def spatial_join(dict, tribal, how='left'):\n",
    "    \"\"\"\n",
    "    Check if coordinates falls within tribal lands\n",
    "    Make new column 'Tribal'\n",
    "    \"\"\"\n",
    "    dict_sjoin = {}\n",
    "    for fname in dict:\n",
    "        df = dict[fname].sjoin(tribal, how=how)\n",
    "        \n",
    "        # if centroid in tribal polygon, label as 1\n",
    "        df['Tribal'] = df.index_right.apply(lambda x: 0 if pd.isna(x) else 1) \n",
    "        dict_sjoin[fname] = df        \n",
    "\n",
    "    return dict_sjoin    "
   ]
  },
  {
   "cell_type": "code",
   "execution_count": 8,
   "id": "a96ad638-020c-4ccf-b7b7-94151d1b0586",
   "metadata": {},
   "outputs": [],
   "source": [
    "dict_sjoin = spatial_join(dict_EPSG4326, tribal_WA_shapes)"
   ]
  },
  {
   "cell_type": "code",
   "execution_count": 9,
   "id": "7f7b309b-5223-43c5-83ab-706e95111461",
   "metadata": {},
   "outputs": [
    {
     "name": "stdout",
     "output_type": "stream",
     "text": [
      "AllPlacesOfWorship\n",
      "FDIC_Insured_Banks\n",
      "Fire_Stations\n",
      "Prison_Boundaries\n",
      "PublicSchools\n",
      "UrgentCareFacs\n"
     ]
    }
   ],
   "source": [
    "for fname in dict_sjoin:\n",
    "    print(fname)"
   ]
  },
  {
   "cell_type": "code",
   "execution_count": 11,
   "id": "fff392a8-4c0c-4eb0-9a66-7e41bb86fde3",
   "metadata": {},
   "outputs": [],
   "source": [
    "def save_shp(dict, save_dir):\n",
    "    for fname in dict:\n",
    "        # dict[fname]['source_centroid'] = gpd.GeoSeries.from_wkt(dict[fname]['source_centroid'])\n",
    "        shp_file = dict[fname].set_geometry('geometry')\n",
    "        # shp_file = gpd.GeoDataFrame(dict[fname], geometry=dict[fname]['source_centroid'])\n",
    "        # shp_file.to_file(os.path.join(save_dir, ('{}.shp'.format(fname))), driver='ESRI Shapefile')\n",
    "        save_path = os.path.join(save_dir, f\"{fname}\")\n",
    "        create_dir(save_path)\n",
    "        shp_file.to_file(save_path, driver='ESRI Shapefile')\n",
    "\n",
    "def create_dir(save_dir):\n",
    "    if not os.path.exists(save_dir):\n",
    "        os.makedirs(save_dir)"
   ]
  },
  {
   "cell_type": "code",
   "execution_count": 13,
   "id": "17559f1a-961a-4db5-b4d7-2a545cc886e4",
   "metadata": {},
   "outputs": [
    {
     "name": "stderr",
     "output_type": "stream",
     "text": [
      "C:\\Users\\bchan\\AppData\\Local\\Temp\\ipykernel_8784\\177911819.py:9: UserWarning: Column names longer than 10 characters will be truncated when saved to ESRI Shapefile.\n",
      "  shp_file.to_file(save_path, driver='ESRI Shapefile')\n",
      "C:\\Users\\bchan\\AppData\\Local\\Temp\\ipykernel_8784\\177911819.py:9: UserWarning: Column names longer than 10 characters will be truncated when saved to ESRI Shapefile.\n",
      "  shp_file.to_file(save_path, driver='ESRI Shapefile')\n",
      "C:\\Users\\bchan\\AppData\\Local\\Temp\\ipykernel_8784\\177911819.py:9: UserWarning: Column names longer than 10 characters will be truncated when saved to ESRI Shapefile.\n",
      "  shp_file.to_file(save_path, driver='ESRI Shapefile')\n",
      "C:\\Users\\bchan\\AppData\\Local\\Temp\\ipykernel_8784\\177911819.py:9: UserWarning: Column names longer than 10 characters will be truncated when saved to ESRI Shapefile.\n",
      "  shp_file.to_file(save_path, driver='ESRI Shapefile')\n",
      "C:\\Users\\bchan\\AppData\\Local\\Temp\\ipykernel_8784\\177911819.py:9: UserWarning: Column names longer than 10 characters will be truncated when saved to ESRI Shapefile.\n",
      "  shp_file.to_file(save_path, driver='ESRI Shapefile')\n",
      "C:\\Users\\bchan\\AppData\\Local\\Temp\\ipykernel_8784\\177911819.py:9: UserWarning: Column names longer than 10 characters will be truncated when saved to ESRI Shapefile.\n",
      "  shp_file.to_file(save_path, driver='ESRI Shapefile')\n"
     ]
    }
   ],
   "source": [
    "save_dir = os.path.join(abs_path, 'data/HIFLD/spatial_join')\n",
    "create_dir(save_dir)\n",
    "\n",
    "save_shp(dict_sjoin, save_dir)"
   ]
  },
  {
   "cell_type": "code",
   "execution_count": 12,
   "id": "4422d3f2-2860-4dc2-ab8d-4cba062fbdc5",
   "metadata": {},
   "outputs": [
    {
     "data": {
      "text/plain": [
       "Full_Addre     2000\n",
       "Place_type     2000\n",
       "source_lon     2000\n",
       "source_lat     2000\n",
       "geometry       2000\n",
       "index_right      66\n",
       "OBJECTID         66\n",
       "TRIBAL_NM         0\n",
       "TRIBAL_NM1        0\n",
       "TRIBAL_NM2        0\n",
       "TREATY_NM        48\n",
       "TREATY_DT        50\n",
       "MPL_CD            0\n",
       "LAND_TYPE        66\n",
       "OLD_RES_NM        2\n",
       "WEBLINK          50\n",
       "GlobalID         66\n",
       "created_us       66\n",
       "created_da       66\n",
       "last_edite       66\n",
       "last_edi_1       66\n",
       "SHAPE_Leng       66\n",
       "SHAPE_Area       66\n",
       "Tribal         2000\n",
       "dtype: int64"
      ]
     },
     "execution_count": 12,
     "metadata": {},
     "output_type": "execute_result"
    }
   ],
   "source": [
    "dict_sjoin['PublicSchools'].notna().sum()"
   ]
  },
  {
   "cell_type": "code",
   "execution_count": null,
   "id": "9f8395d2-5477-4e15-92fe-e516d6bd17a3",
   "metadata": {},
   "outputs": [],
   "source": []
  }
 ],
 "metadata": {
  "kernelspec": {
   "display_name": "Python 3 (ipykernel)",
   "language": "python",
   "name": "python3"
  },
  "language_info": {
   "codemirror_mode": {
    "name": "ipython",
    "version": 3
   },
   "file_extension": ".py",
   "mimetype": "text/x-python",
   "name": "python",
   "nbconvert_exporter": "python",
   "pygments_lexer": "ipython3",
   "version": "3.11.7"
  }
 },
 "nbformat": 4,
 "nbformat_minor": 5
}
