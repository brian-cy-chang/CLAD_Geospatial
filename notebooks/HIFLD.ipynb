{
 "cells": [
  {
   "cell_type": "code",
   "execution_count": 1,
   "id": "c78beae7-32ea-40df-b011-50dd2271fae7",
   "metadata": {},
   "outputs": [],
   "source": [
    "import os\n",
    "import sys\n",
    "import re\n",
    "import csv\n",
    "\n",
    "import numpy as np\n",
    "import geopandas as gpd\n",
    "import matplotlib.pyplot as plt"
   ]
  },
  {
   "cell_type": "raw",
   "id": "3c2ca9a0-0912-4236-a668-e9b857eac7ed",
   "metadata": {},
   "source": [
    "# define data paths\n",
    "os.chdir('..')\n",
    "abs_path = os.getcwd()\n",
    "\n",
    "HIFLD_path = os.path.join(abs_path, 'data/HIFLD')\n",
    "FDIC_path = os.path.join(HIFLD_path, 'FDIC_Insured_Banks')\n",
    "Prison_path = os.path.join(HIFLD_path, 'Prison_Boundaries')\n",
    "UrgentCare_path = os.path.join(HIFLD_path, 'Urgent_Care_Facilities')\n",
    "\n",
    "FDIC_file = os.path.join(FDIC_path, 'FDIC_Insured_Banks.shp')\n",
    "Prison_file = os.path.join(Prison_path, 'Prison_Boundaries.shp')\n",
    "UrgentCare_file = os.path.join(UrgentCare_path, 'UrgentCareFacs.shp')"
   ]
  },
  {
   "cell_type": "code",
   "execution_count": 2,
   "id": "f68e7d2c",
   "metadata": {
    "scrolled": true
   },
   "outputs": [],
   "source": [
    "# list shp files recursively\n",
    "os.chdir('..')\n",
    "abs_path = os.getcwd()\n",
    "\n",
    "HIFLD_path = os.path.join(abs_path, 'data/HIFLD')\n",
    "shp_files = [os.path.join(root, name) \\\n",
    "             for root, dirs, files in os.walk(HIFLD_path) \\\n",
    "             for name in files \\\n",
    "             if name.endswith(('.shp'))]"
   ]
  },
  {
   "cell_type": "code",
   "execution_count": 3,
   "id": "9a1ae077-26b7-4508-bfaa-ef3c3e75d9fe",
   "metadata": {},
   "outputs": [
    {
     "name": "stdout",
     "output_type": "stream",
     "text": [
      "There are 267622 observations in <_io.BufferedReader name='C:\\\\Users\\\\bchan\\\\OneDrive - UW\\\\CLAD\\\\CLAD_Geospatial\\\\data/HIFLD\\\\All_Places_Of_Worship\\\\AllPlacesOfWorship.shp'>\n",
      "There are 93348 observations in <_io.BufferedReader name='C:\\\\Users\\\\bchan\\\\OneDrive - UW\\\\CLAD\\\\CLAD_Geospatial\\\\data/HIFLD\\\\FDIC_Insured_Banks\\\\FDIC_Insured_Banks.shp'>\n",
      "There are 54785 observations in <_io.BufferedReader name='C:\\\\Users\\\\bchan\\\\OneDrive - UW\\\\CLAD\\\\CLAD_Geospatial\\\\data/HIFLD\\\\Fire_Stations\\\\Fire_Stations.shp'>\n",
      "There are 5056 observations in <_io.BufferedReader name='C:\\\\Users\\\\bchan\\\\OneDrive - UW\\\\CLAD\\\\CLAD_Geospatial\\\\data/HIFLD\\\\Prison_Boundaries\\\\Prison_Boundaries.shp'>\n",
      "There are 112783 observations in <_io.BufferedReader name='C:\\\\Users\\\\bchan\\\\OneDrive - UW\\\\CLAD\\\\CLAD_Geospatial\\\\data/HIFLD\\\\Public_Schools\\\\PublicSchools.shp'>\n",
      "There are 5298 observations in <_io.BufferedReader name='C:\\\\Users\\\\bchan\\\\OneDrive - UW\\\\CLAD\\\\CLAD_Geospatial\\\\data/HIFLD\\\\Urgent_Care_Facilities\\\\UrgentCareFacs.shp'>\n"
     ]
    }
   ],
   "source": [
    "for file in shp_files:\n",
    "    with open(file, 'rb') as file:\n",
    "        row_count = len(file.readlines()) - 1\n",
    "        print('There are {} observations in {}'.format(row_count, file))"
   ]
  },
  {
   "cell_type": "code",
   "execution_count": 17,
   "id": "dec682e7-7c53-43c2-95f2-30d1d034b0e3",
   "metadata": {},
   "outputs": [
    {
     "data": {
      "text/plain": [
       "Index(['OBJECTID', 'ADDRESBR', 'BRNUM', 'BRSERTYP', 'CBSABR', 'CBSANAMB',\n",
       "       'CITYBR', 'CNTRYNAB', 'CNTYNAMB', 'DEPSUMBR', 'GEOCODE_CE', 'NAMEBR',\n",
       "       'STALPBR', 'STCNTYBR', 'STNAMEBR', 'UNINUMBR', 'ZIPBR', 'CERT',\n",
       "       'ADDRESS', 'ASSET', 'BKCLASS', 'CITY', 'CNTRYNA', 'DENOVO', 'DEPDOM',\n",
       "       'NAMEFULL', 'NAMEHCR', 'REGAGNT', 'REPDTE', 'RSSDID', 'STALP', 'STCNTY',\n",
       "       'STNAME', 'ZIP', 'BKMO', 'LOC_NAME', 'STATUS', 'SCORE', 'x', 'y',\n",
       "       'GeocodeSou', 'STD_ADDR_B', 'STD_ADDR', 'ZIP4BR', 'geometry'],\n",
       "      dtype='object')"
      ]
     },
     "execution_count": 17,
     "metadata": {},
     "output_type": "execute_result"
    }
   ],
   "source": [
    "FDIC_shapes = gpd.read_file(FDIC_file, rows=100)\n",
    "FDIC_shapes.columns"
   ]
  },
  {
   "cell_type": "code",
   "execution_count": 31,
   "id": "eed95da9-b927-4fe1-b1bd-c27530ea51d4",
   "metadata": {},
   "outputs": [
    {
     "data": {
      "text/plain": [
       "<Geographic 2D CRS: EPSG:4326>\n",
       "Name: WGS 84\n",
       "Axis Info [ellipsoidal]:\n",
       "- Lat[north]: Geodetic latitude (degree)\n",
       "- Lon[east]: Geodetic longitude (degree)\n",
       "Area of Use:\n",
       "- name: World.\n",
       "- bounds: (-180.0, -90.0, 180.0, 90.0)\n",
       "Datum: World Geodetic System 1984 ensemble\n",
       "- Ellipsoid: WGS 84\n",
       "- Prime Meridian: Greenwich"
      ]
     },
     "execution_count": 31,
     "metadata": {},
     "output_type": "execute_result"
    }
   ],
   "source": [
    "FDIC_shapes.crs"
   ]
  },
  {
   "cell_type": "code",
   "execution_count": 16,
   "id": "26798e86-4a10-4a7b-abba-70e2f322beea",
   "metadata": {},
   "outputs": [
    {
     "data": {
      "text/plain": [
       "Index(['FID', 'FACILITYID', 'NAME', 'ADDRESS', 'CITY', 'STATE', 'ZIP', 'ZIP4',\n",
       "       'TELEPHONE', 'TYPE', 'STATUS', 'POPULATION', 'COUNTY', 'COUNTYFIPS',\n",
       "       'COUNTRY', 'NAICS_CODE', 'NAICS_DESC', 'SOURCE', 'SOURCEDATE',\n",
       "       'VAL_METHOD', 'VAL_DATE', 'WEBSITE', 'SECURELVL', 'CAPACITY',\n",
       "       'SHAPE_Leng', 'GlobalID', 'CreationDa', 'Creator', 'EditDate', 'Editor',\n",
       "       'SHAPE_Le_1', 'SHAPE_Area', 'geometry'],\n",
       "      dtype='object')"
      ]
     },
     "execution_count": 16,
     "metadata": {},
     "output_type": "execute_result"
    }
   ],
   "source": [
    "Prison_shapes = gpd.read_file(Prison_file, rows=100)\n",
    "Prison_shapes.columns"
   ]
  },
  {
   "cell_type": "code",
   "execution_count": 30,
   "id": "abec3db7-6b5b-470f-9144-1bb475a868cd",
   "metadata": {},
   "outputs": [
    {
     "data": {
      "text/plain": [
       "<Projected CRS: EPSG:3857>\n",
       "Name: WGS 84 / Pseudo-Mercator\n",
       "Axis Info [cartesian]:\n",
       "- X[east]: Easting (metre)\n",
       "- Y[north]: Northing (metre)\n",
       "Area of Use:\n",
       "- name: World between 85.06°S and 85.06°N.\n",
       "- bounds: (-180.0, -85.06, 180.0, 85.06)\n",
       "Coordinate Operation:\n",
       "- name: Popular Visualisation Pseudo-Mercator\n",
       "- method: Popular Visualisation Pseudo Mercator\n",
       "Datum: World Geodetic System 1984 ensemble\n",
       "- Ellipsoid: WGS 84\n",
       "- Prime Meridian: Greenwich"
      ]
     },
     "execution_count": 30,
     "metadata": {},
     "output_type": "execute_result"
    }
   ],
   "source": [
    "Prison_shapes.crs"
   ]
  },
  {
   "cell_type": "code",
   "execution_count": 15,
   "id": "69d26e55-d40e-4a5d-b736-5d50de82e102",
   "metadata": {},
   "outputs": [
    {
     "data": {
      "text/plain": [
       "Index(['OBJECTID', 'ID', 'NAME', 'TELEPHONE', 'ADDRESS', 'ADDRESS2', 'CITY',\n",
       "       'STATE', 'ZIP', 'ZIPP4', 'COUNTY', 'FIPS', 'DIRECTIONS', 'EMERGTITLE',\n",
       "       'EMERGTEL', 'EMERGEXT', 'CONTDATE', 'CONTHOW', 'GEODATE', 'GEOHOW',\n",
       "       'HSIPTHEMES', 'NAICSCODE', 'NAICSDESCR', 'GEOLINKID', 'X', 'Y',\n",
       "       'ST_VENDOR', 'ST_VERSION', 'GEOPREC', 'PHONELOC', 'QC_QA', 'UCAOA_ID',\n",
       "       'geometry'],\n",
       "      dtype='object')"
      ]
     },
     "execution_count": 15,
     "metadata": {},
     "output_type": "execute_result"
    }
   ],
   "source": [
    "UrgentCare_shapes = gpd.read_file(UrgentCare_file, rows=100)\n",
    "UrgentCare_shapes.columns"
   ]
  },
  {
   "cell_type": "code",
   "execution_count": 29,
   "id": "3302a8e4-d51f-4146-b4f6-d5749d58c14d",
   "metadata": {},
   "outputs": [
    {
     "data": {
      "text/plain": [
       "<Projected CRS: EPSG:3857>\n",
       "Name: WGS 84 / Pseudo-Mercator\n",
       "Axis Info [cartesian]:\n",
       "- X[east]: Easting (metre)\n",
       "- Y[north]: Northing (metre)\n",
       "Area of Use:\n",
       "- name: World between 85.06°S and 85.06°N.\n",
       "- bounds: (-180.0, -85.06, 180.0, 85.06)\n",
       "Coordinate Operation:\n",
       "- name: Popular Visualisation Pseudo-Mercator\n",
       "- method: Popular Visualisation Pseudo Mercator\n",
       "Datum: World Geodetic System 1984 ensemble\n",
       "- Ellipsoid: WGS 84\n",
       "- Prime Meridian: Greenwich"
      ]
     },
     "execution_count": 29,
     "metadata": {},
     "output_type": "execute_result"
    }
   ],
   "source": [
    "UrgentCare_shapes.crs"
   ]
  },
  {
   "cell_type": "markdown",
   "id": "02a3f8c5-b51d-48e2-aa84-e613b3e644a1",
   "metadata": {},
   "source": [
    "# Full Address String"
   ]
  },
  {
   "cell_type": "code",
   "execution_count": 4,
   "id": "6b7c41b3-3fc8-42da-abff-ea910897d439",
   "metadata": {},
   "outputs": [],
   "source": [
    "def read_shp(file, rows=100):\n",
    "    df = gpd.read_file(file, rows=rows)\n",
    "\n",
    "    return df"
   ]
  },
  {
   "cell_type": "code",
   "execution_count": 99,
   "id": "bc84a4db-9281-4539-9fc2-d8d387e65d58",
   "metadata": {},
   "outputs": [],
   "source": [
    "def str_address_match(str_address):\n",
    "    match_result = re.match('\\d+\\s+\\w+\\s+\\w+', str_address)\n",
    "\n",
    "    return match_result\n",
    "\n",
    "def state_match(state_str):\n",
    "    states = ['IA', 'KS', 'UT', 'VA', 'NC', 'NE', 'SD', 'AL', 'ID', 'FM', 'DE', 'AK', 'CT', 'PR', \n",
    "              'NM', 'MS', 'PW', 'CO', 'NJ', 'FL', 'MN', 'VI', 'NV', 'AZ', 'WI', 'ND', 'PA', 'OK', \n",
    "              'KY', 'RI', 'NH', 'MO', 'ME', 'VT', 'GA', 'GU', 'AS', 'NY', 'CA', 'HI', 'IL', 'TN', \n",
    "              'MA', 'OH', 'MD', 'MI', 'WY', 'WA', 'OR', 'MH', 'SC', 'IN', 'LA', 'MP', 'DC', 'MT', 'AR', 'WV', 'TX']\n",
    "    \n",
    "    # match_result = re.compile(r'\\b(' + '|'.join(state_str) + r')\\b', re.IGNORECASE)\n",
    "    match_result = re.search('\\b(?i:AL|AK|AZ|AR|CA|CO|CT|DE|FL|GA|HI|ID|IL|IN|IA|KS|KY|LA|ME|MD|MA|MI|MN|MS|MO|MT|NV|NH|NJ|NM|NY|NC|ND|OH|OK|OR|PA|RI|SC|SD|TN|TX|UT|VT|VA|WA|WV|WI|WY|NE)\\b', \n",
    "                            state_str)\n",
    "    # match_result = re.match(r'\\b[a-z]{2}\\b', state_str, re.I)\n",
    "\n",
    "    return match_result"
   ]
  },
  {
   "cell_type": "code",
   "execution_count": 5,
   "id": "391894e2-6408-46ec-a1ba-13ca1d9b8d01",
   "metadata": {},
   "outputs": [],
   "source": [
    "def full_address(df):\n",
    "    if 'ZIP' in df.columns:\n",
    "        zip_col = 'ZIP'\n",
    "    else:\n",
    "        zip_col = 'ZIPCODE'\n",
    "\n",
    "    if 'STATE' in df.columns:\n",
    "        state_col = 'STATE'\n",
    "    else:\n",
    "        state_col = 'STNAME'\n",
    "\n",
    "    # idx = np.where(df.columns.str.contains('ADDRESS'))\n",
    "    # addr_col = df.columns[idx][0]\n",
    "\n",
    "    if 'ADDRESS' in df.columns:\n",
    "        addr_col = 'ADDRESS'\n",
    "    elif 'ADDRESS' not in df.columns:\n",
    "        addr_col = 'STREET'\n",
    "    elif ('STREET' not in df.columns) and ('ADDRESS' not in df.columns):\n",
    "        addr_col = 'STD_ADDR_B'\n",
    "\n",
    "    # if ' ADDRESS' in df.columns:\n",
    "        # names may make parsing addresses difficult\n",
    "        # df['Full_Address'] = df[[addr_keep, 'CITY', state_keep]].agg(', '.join, axis=1) + ' ' + str(df['ZIP'])\n",
    "        # df['Full_Address'] = df[['ADDRESS', 'CITY', state_col]].agg(', '.join, axis=1) + ' ' + df[zip_col].astype('str')\n",
    "        # df['Place_Name'] = df['NAME']\n",
    "        # df['Place_Name'] = df['NAME']\n",
    "    # elif 'STREET' in df.columns:\n",
    "       # df['Full_Address'] = df[['STREET', 'CITY', state_col]].agg(', '.join, axis=1) + ' ' + df[zip_col].astype('str')\n",
    "    # else:\n",
    "        # df['Full_Address'] = df[['ADDRESBR', 'CITY', state_col]].agg(', '.join, axis=1) + ' ' + df[zip_col].astype('str')\n",
    "    df['Full_Address'] = df[[addr_col, 'CITY', state_col]].fillna('NaN').agg(', '.join, axis=1) + ' ' + df[zip_col].astype('str')\n",
    "             \n",
    "    return df"
   ]
  },
  {
   "cell_type": "code",
   "execution_count": 17,
   "id": "fc7147c8",
   "metadata": {},
   "outputs": [],
   "source": [
    "# for all shp_files\n",
    "dict_address = dict()\n",
    "for file in shp_files:\n",
    "    basename = os.path.basename(file).split('/')[0]\n",
    "    fname = os.path.basename(basename).split('.')[0]\n",
    "\n",
    "    # print(file)\n",
    "    df = read_shp(file, rows=2000)\n",
    "    dict_address[fname] = full_address(df)\n",
    "    # df_address[fname]['Facility_type'] = fname"
   ]
  },
  {
   "cell_type": "markdown",
   "id": "a74c90c4-6533-44b8-88a6-a7a5e89470fd",
   "metadata": {},
   "source": [
    "# Calculate Lat/Lon"
   ]
  },
  {
   "cell_type": "code",
   "execution_count": 7,
   "id": "c0756507-7ebb-4612-9373-0d92d3ca3b2b",
   "metadata": {},
   "outputs": [],
   "source": [
    "# convert to CRS 'EPSG:4326'\n",
    "def convert_EPSG4326(dict):\n",
    "    \"\"\"\n",
    "    dict from full_address\n",
    "    maybe want to store source data before conversion\n",
    "    \"\"\"\n",
    "    for fname in dict:\n",
    "        dict[fname] = dict[fname].to_crs(\"EPSG:4326\")\n",
    "\n",
    "    return dict"
   ]
  },
  {
   "cell_type": "code",
   "execution_count": 8,
   "id": "cfbc1c06-b005-4e3a-9a08-ed8d10746ed2",
   "metadata": {},
   "outputs": [],
   "source": [
    "def get_centroid(dict):\n",
    "    \"\"\"\n",
    "    Returns Point object or a coordinate tuple (x, y)\n",
    "    \"\"\"\n",
    "    for fname in dict:\n",
    "        if 'x' in dict[fname].columns:\n",
    "            dict[fname] = dict[fname].rename(columns={'x': 'source_lon', 'y': 'source_lat'})\n",
    "            dict[fname]['Place_type'] = os.path.basename(fname)\n",
    "        else:\n",
    "            dict[fname]['source_centroid'] = dict[fname]['geometry'].centroid\n",
    "            dict[fname]['source_lon'] = dict[fname]['geometry'].centroid.x\n",
    "            dict[fname]['source_lat'] = dict[fname]['geometry'].centroid.y\n",
    "            dict[fname]['Place_type'] = os.path.basename(fname)\n",
    "        \n",
    "    return dict"
   ]
  },
  {
   "cell_type": "code",
   "execution_count": 9,
   "id": "1a0b9218-eb11-4993-9443-3a185e941511",
   "metadata": {},
   "outputs": [],
   "source": [
    "def keep_columns(dict):\n",
    "    cols = ['Full_Address', 'Place_type', 'source_centroid', 'source_lon', 'source_lat']\n",
    "    new_dict = {}\n",
    "    for fname in dict:\n",
    "        print(fname)\n",
    "        new_dict[fname] = dict[fname][cols]\n",
    "\n",
    "    return new_dict"
   ]
  },
  {
   "cell_type": "code",
   "execution_count": 10,
   "id": "45acac2a",
   "metadata": {},
   "outputs": [],
   "source": [
    "def save_shp(dict, save_dir):\n",
    "    for fname in dict:\n",
    "        # dict[fname]['source_centroid'] = gpd.GeoSeries.from_wkt(dict[fname]['source_centroid'])\n",
    "        shp_file = dict[fname].set_geometry('source_centroid')\n",
    "        # shp_file = gpd.GeoDataFrame(dict[fname], geometry=dict[fname]['source_centroid'])\n",
    "        # shp_file.to_file(os.path.join(save_dir, ('{}.shp'.format(fname))), driver='ESRI Shapefile')\n",
    "        save_path = os.path.join(save_dir, f\"{fname}\")\n",
    "        create_dir(save_path)\n",
    "        shp_file.to_file(save_path, driver='ESRI Shapefile')"
   ]
  },
  {
   "cell_type": "code",
   "execution_count": 11,
   "id": "be6fd09a-8154-46c8-912e-10dfa5e5f949",
   "metadata": {},
   "outputs": [],
   "source": [
    "def create_dir(save_dir):\n",
    "    if not os.path.exists(save_dir):\n",
    "        os.makedirs(save_dir)"
   ]
  },
  {
   "cell_type": "code",
   "execution_count": 19,
   "id": "de320089-1b6e-4ced-88e6-17022c868636",
   "metadata": {},
   "outputs": [
    {
     "name": "stderr",
     "output_type": "stream",
     "text": [
      "C:\\Users\\bchan\\AppData\\Local\\Temp\\ipykernel_27084\\1302841443.py:10: UserWarning: Geometry is in a geographic CRS. Results from 'centroid' are likely incorrect. Use 'GeoSeries.to_crs()' to re-project geometries to a projected CRS before this operation.\n",
      "\n",
      "  dict[fname]['source_centroid'] = dict[fname]['geometry'].centroid\n",
      "C:\\Users\\bchan\\AppData\\Local\\Temp\\ipykernel_27084\\1302841443.py:11: UserWarning: Geometry is in a geographic CRS. Results from 'centroid' are likely incorrect. Use 'GeoSeries.to_crs()' to re-project geometries to a projected CRS before this operation.\n",
      "\n",
      "  dict[fname]['source_lon'] = dict[fname]['geometry'].centroid.x\n",
      "C:\\Users\\bchan\\AppData\\Local\\Temp\\ipykernel_27084\\1302841443.py:12: UserWarning: Geometry is in a geographic CRS. Results from 'centroid' are likely incorrect. Use 'GeoSeries.to_crs()' to re-project geometries to a projected CRS before this operation.\n",
      "\n",
      "  dict[fname]['source_lat'] = dict[fname]['geometry'].centroid.y\n",
      "C:\\Users\\bchan\\AppData\\Local\\Temp\\ipykernel_27084\\1302841443.py:11: UserWarning: Geometry is in a geographic CRS. Results from 'centroid' are likely incorrect. Use 'GeoSeries.to_crs()' to re-project geometries to a projected CRS before this operation.\n",
      "\n",
      "  dict[fname]['source_lon'] = dict[fname]['geometry'].centroid.x\n",
      "C:\\Users\\bchan\\AppData\\Local\\Temp\\ipykernel_27084\\1302841443.py:12: UserWarning: Geometry is in a geographic CRS. Results from 'centroid' are likely incorrect. Use 'GeoSeries.to_crs()' to re-project geometries to a projected CRS before this operation.\n",
      "\n",
      "  dict[fname]['source_lat'] = dict[fname]['geometry'].centroid.y\n",
      "C:\\Users\\bchan\\AppData\\Local\\Temp\\ipykernel_27084\\1302841443.py:10: UserWarning: Geometry is in a geographic CRS. Results from 'centroid' are likely incorrect. Use 'GeoSeries.to_crs()' to re-project geometries to a projected CRS before this operation.\n",
      "\n",
      "  dict[fname]['source_centroid'] = dict[fname]['geometry'].centroid\n"
     ]
    },
    {
     "name": "stdout",
     "output_type": "stream",
     "text": [
      "AllPlacesOfWorship\n",
      "FDIC_Insured_Banks\n",
      "Fire_Stations\n",
      "Prison_Boundaries\n",
      "PublicSchools\n",
      "UrgentCareFacs\n"
     ]
    }
   ],
   "source": [
    "dict_EPSG4326 = convert_EPSG4326(dict_address)\n",
    "dict_centroid = get_centroid(dict_EPSG4326)\n",
    "final_dict = keep_columns(dict_centroid)"
   ]
  },
  {
   "cell_type": "code",
   "execution_count": 21,
   "id": "72e5036d-734b-494b-b1a1-da7463d728c0",
   "metadata": {},
   "outputs": [
    {
     "name": "stderr",
     "output_type": "stream",
     "text": [
      "C:\\Users\\bchan\\AppData\\Local\\Temp\\ipykernel_27084\\471014251.py:9: UserWarning: Column names longer than 10 characters will be truncated when saved to ESRI Shapefile.\n",
      "  shp_file.to_file(save_path, driver='ESRI Shapefile')\n",
      "C:\\Users\\bchan\\AppData\\Local\\Temp\\ipykernel_27084\\471014251.py:9: UserWarning: Column names longer than 10 characters will be truncated when saved to ESRI Shapefile.\n",
      "  shp_file.to_file(save_path, driver='ESRI Shapefile')\n",
      "C:\\Users\\bchan\\AppData\\Local\\Temp\\ipykernel_27084\\471014251.py:9: UserWarning: Column names longer than 10 characters will be truncated when saved to ESRI Shapefile.\n",
      "  shp_file.to_file(save_path, driver='ESRI Shapefile')\n",
      "C:\\Users\\bchan\\AppData\\Local\\Temp\\ipykernel_27084\\471014251.py:9: UserWarning: Column names longer than 10 characters will be truncated when saved to ESRI Shapefile.\n",
      "  shp_file.to_file(save_path, driver='ESRI Shapefile')\n",
      "C:\\Users\\bchan\\AppData\\Local\\Temp\\ipykernel_27084\\471014251.py:9: UserWarning: Column names longer than 10 characters will be truncated when saved to ESRI Shapefile.\n",
      "  shp_file.to_file(save_path, driver='ESRI Shapefile')\n",
      "C:\\Users\\bchan\\AppData\\Local\\Temp\\ipykernel_27084\\471014251.py:9: UserWarning: Column names longer than 10 characters will be truncated when saved to ESRI Shapefile.\n",
      "  shp_file.to_file(save_path, driver='ESRI Shapefile')\n"
     ]
    }
   ],
   "source": [
    "# save files\n",
    "save_dir = os.path.join(abs_path, 'output/HIFLD/centroids')\n",
    "create_dir(save_dir)\n",
    "\n",
    "save_shp(final_dict, save_dir)"
   ]
  },
  {
   "cell_type": "code",
   "execution_count": null,
   "id": "98ffdc2f-bb1a-47f3-ad84-7bc81e0aa103",
   "metadata": {},
   "outputs": [],
   "source": []
  }
 ],
 "metadata": {
  "kernelspec": {
   "display_name": "Python 3 (ipykernel)",
   "language": "python",
   "name": "python3"
  },
  "language_info": {
   "codemirror_mode": {
    "name": "ipython",
    "version": 3
   },
   "file_extension": ".py",
   "mimetype": "text/x-python",
   "name": "python",
   "nbconvert_exporter": "python",
   "pygments_lexer": "ipython3",
   "version": "3.11.7"
  }
 },
 "nbformat": 4,
 "nbformat_minor": 5
}
