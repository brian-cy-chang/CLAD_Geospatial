{
 "cells": [
  {
   "cell_type": "code",
   "execution_count": 1,
   "id": "b20cdfe6-1e1e-4443-9694-ffcb264bf8fb",
   "metadata": {},
   "outputs": [],
   "source": [
    "import os\n",
    "import sys\n",
    "import csv\n",
    "\n",
    "import numpy as np\n",
    "import geopandas as gpd\n",
    "import pandas as pd\n",
    "import matplotlib.pyplot as plt"
   ]
  },
  {
   "cell_type": "code",
   "execution_count": 2,
   "id": "d20914e7-f9e2-4b65-8b13-7af8818d97dd",
   "metadata": {},
   "outputs": [],
   "source": [
    "# list shp files recursively\n",
    "os.chdir('..')\n",
    "abs_path = os.getcwd()\n",
    "\n",
    "HIFLD_path = os.path.join(abs_path, 'data/HIFLD')\n",
    "shp_files = [os.path.join(root, name) \\\n",
    "             for root, dirs, files in os.walk(HIFLD_path) \\\n",
    "             for name in files \\\n",
    "             if name.endswith(('.shp'))]"
   ]
  },
  {
   "cell_type": "code",
   "execution_count": 3,
   "id": "3f60707f-3ad0-4120-8151-47045b93e5ff",
   "metadata": {},
   "outputs": [
    {
     "name": "stdout",
     "output_type": "stream",
     "text": [
      "There are 267622 observations in AllPlacesOfWorship.\n",
      "There are 92960 observations in Alternative_Fueling_Stations.\n",
      "There are 7167 observations in CollegesUniversities.\n",
      "There are 93348 observations in FDIC_Insured_Banks.\n",
      "There are 54785 observations in Fire_Stations.\n",
      "There are 8655 observations in Hospitals.\n",
      "There are 36503 observations in NCUA_Insured_Credit_Unions_V_2024_Q1.\n",
      "There are 66279 observations in Pharmacies_.\n",
      "There are 5056 observations in Prison_Boundaries.\n",
      "There are 24089 observations in Private_Schools.\n",
      "There are 112783 observations in PublicSchools.\n",
      "There are 5298 observations in UrgentCareFacs.\n"
     ]
    }
   ],
   "source": [
    "# number of observations per geoshape file \n",
    "for file in shp_files:\n",
    "    with open(file, 'rb') as f:\n",
    "        row_count = len(f.readlines()) - 1\n",
    "        \n",
    "        basename = os.path.basename(file).split('/')[0]\n",
    "        fname = os.path.basename(basename).split('.')[0]\n",
    "        \n",
    "        print('There are {} observations in {}.'.format(row_count, fname))"
   ]
  },
  {
   "cell_type": "markdown",
   "id": "188bc05c-b6da-42df-9ac1-27077ca01f9d",
   "metadata": {},
   "source": [
    "# Explore Geoshape Files\n",
    "* Columns\n",
    "* Data types\n",
    "* CRS"
   ]
  },
  {
   "cell_type": "code",
   "execution_count": 4,
   "id": "9460059f-67c6-482b-b827-f0910f0ca46d",
   "metadata": {},
   "outputs": [],
   "source": [
    "def load2gdf_slices(in_fc, use_fields=None, chunk_size=1000):\n",
    "    \"\"\"\n",
    "    Iteratively slice columns from a GeoDataFrame\n",
    "\n",
    "    Parameters\n",
    "    ----------\n",
    "    in_fc (str): path to geoshapefile\n",
    "    use_fields (list): column names to slice\n",
    "    chunk_size (int): number of rows per iteration\n",
    "    \"\"\"\n",
    "    i = 0\n",
    "    out_gdf = gpd.GeoDataFrame()\n",
    "    gdf = []\n",
    "    f_geom = 'geometry'\n",
    "    \n",
    "    #import pdb; pdb.set_trace()\n",
    "    while True:\n",
    "        chunk = slice(i, i + chunk_size, 1)\n",
    "        gdf_iter = gpd.read_file(in_fc, rows=chunk)\n",
    "    \n",
    "        if gdf_iter.shape[0] == 0:\n",
    "            break\n",
    "        else:\n",
    "            if use_fields:\n",
    "                if f_geom not in use_fields:\n",
    "                    #use_fields.append('geometry')\n",
    "                    pass\n",
    "                gdf_iter = gdf_iter[use_fields]\n",
    "    \n",
    "            gdf.append(gdf_iter)\n",
    "            i += chunk_size\n",
    "        gdf_concat = pd.concat(gdf)\n",
    "        out_gdf = gpd.GeoDataFrame(gdf_concat)\n",
    "    return out_gdf"
   ]
  },
  {
   "cell_type": "code",
   "execution_count": 5,
   "id": "50ed2c59-32ca-4cec-a296-d09646bc1cbb",
   "metadata": {},
   "outputs": [
    {
     "name": "stdout",
     "output_type": "stream",
     "text": [
      "CPU times: total: 2min 11s\n",
      "Wall time: 5min 10s\n"
     ]
    }
   ],
   "source": [
    "%%time\n",
    "\n",
    "AllPlacesOfWorship_gdf = load2gdf_slices(shp_files[0], use_fields=['STATE', 'NAME', 'STREET', 'CITY', 'geometry', 'ZIP'], chunk_size=1000)"
   ]
  },
  {
   "cell_type": "code",
   "execution_count": 16,
   "id": "ebfe03c5-6d0a-4108-94b9-d13c5bce0faf",
   "metadata": {},
   "outputs": [
    {
     "name": "stderr",
     "output_type": "stream",
     "text": [
      "C:\\Users\\bchan\\AppData\\Local\\Temp\\ipykernel_20536\\322628928.py:4: UserWarning: Geometry is in a geographic CRS. Results from 'centroid' are likely incorrect. Use 'GeoSeries.to_crs()' to re-project geometries to a projected CRS before this operation.\n",
      "\n",
      "  allplacesofworship_states_EPSG4326['source_centroid'] = allplacesofworship_states_EPSG4326['geometry'].centroid\n",
      "C:\\Users\\bchan\\AppData\\Local\\Temp\\ipykernel_20536\\322628928.py:5: UserWarning: Geometry is in a geographic CRS. Results from 'centroid' are likely incorrect. Use 'GeoSeries.to_crs()' to re-project geometries to a projected CRS before this operation.\n",
      "\n",
      "  allplacesofworship_states_EPSG4326['source_lon'] = allplacesofworship_states_EPSG4326['geometry'].centroid.x\n",
      "C:\\Users\\bchan\\AppData\\Local\\Temp\\ipykernel_20536\\322628928.py:6: UserWarning: Geometry is in a geographic CRS. Results from 'centroid' are likely incorrect. Use 'GeoSeries.to_crs()' to re-project geometries to a projected CRS before this operation.\n",
      "\n",
      "  allplacesofworship_states_EPSG4326['source_lat'] = allplacesofworship_states_EPSG4326['geometry'].centroid.y\n"
     ]
    }
   ],
   "source": [
    "allplacesofworship_address = full_address(AllPlacesOfWorship_gdf)\n",
    "\n",
    "allplacesofworship_states_EPSG4326 = allplacesofworship_address.to_crs(\"EPSG:4326\")\n",
    "allplacesofworship_states_EPSG4326['source_centroid'] = allplacesofworship_states_EPSG4326['geometry'].centroid\n",
    "allplacesofworship_states_EPSG4326['source_lon'] = allplacesofworship_states_EPSG4326['geometry'].centroid.x\n",
    "allplacesofworship_states_EPSG4326['source_lat'] = allplacesofworship_states_EPSG4326['geometry'].centroid.y\n",
    "allplacesofworship_states_EPSG4326['Place_type'] = 'AllPlacesOfWorship'\n",
    "\n",
    "allplacesofworship_states_EPSG4326 = keep_columns(allplacesofworship_states_EPSG4326)"
   ]
  },
  {
   "cell_type": "code",
   "execution_count": 20,
   "id": "69334216-b633-404f-b10a-856217c8fc08",
   "metadata": {},
   "outputs": [
    {
     "name": "stderr",
     "output_type": "stream",
     "text": [
      "C:\\Users\\bchan\\AppData\\Local\\Temp\\ipykernel_20536\\1806490047.py:7: UserWarning: Column names longer than 10 characters will be truncated when saved to ESRI Shapefile.\n",
      "  shp_file.to_file(save_path, driver='ESRI Shapefile')\n"
     ]
    }
   ],
   "source": [
    "shp_file = allplacesofworship_states_EPSG4326.set_geometry('source_centroid')\n",
    "\n",
    "save_dir = os.path.join(abs_path, 'output/HIFLD/centroids')\n",
    "save_path = os.path.join(save_dir, 'AllPlacesofWorship_full')\n",
    "create_dir(save_path)\n",
    "\n",
    "shp_file.to_file(save_path, driver='ESRI Shapefile')"
   ]
  },
  {
   "cell_type": "code",
   "execution_count": 6,
   "id": "60fc4452-640a-4b6b-9036-9b42fc10cb4b",
   "metadata": {},
   "outputs": [
    {
     "name": "stdout",
     "output_type": "stream",
     "text": [
      "CPU times: total: 28.4 s\n",
      "Wall time: 1min 1s\n"
     ]
    }
   ],
   "source": [
    "%%time\n",
    "\n",
    "PublicSchools_gdf = load2gdf_slices(shp_files[10], use_fields=['STATE', 'NAME', 'ADDRESS', 'CITY', 'ZIP', 'geometry'], chunk_size=2000)"
   ]
  },
  {
   "cell_type": "code",
   "execution_count": null,
   "id": "c5be1640-cecc-496d-9a65-664341b4b2e1",
   "metadata": {},
   "outputs": [],
   "source": [
    "publicschools_address = full_address(PublicSchools_gdf)\n",
    "\n",
    "publicschools_address_EPSG4326 = publicschools_address.to_crs(\"EPSG:4326\")\n",
    "publicschools_address_EPSG4326['source_centroid'] = publicschools_address_EPSG4326['geometry'].centroid\n",
    "publicschools_address_EPSG4326['source_lon'] = publicschools_address_EPSG4326['geometry'].centroid.x\n",
    "publicschools_address_EPSG4326['source_lat'] = publicschools_address_EPSG4326['geometry'].centroid.y\n",
    "publicschools_address_EPSG4326['Place_type'] = 'PublicSchools'\n",
    "\n",
    "publicschools_address_EPSG4326 = keep_columns(publicschools_address_EPSG4326)"
   ]
  },
  {
   "cell_type": "code",
   "execution_count": null,
   "id": "f925186f-4a20-42ce-a23b-7c0b36335a5e",
   "metadata": {},
   "outputs": [],
   "source": [
    "shp_file = publicschools_address_EPSG4326.set_geometry('source_centroid')\n",
    "\n",
    "save_dir = os.path.join(abs_path, 'output/HIFLD/centroids')\n",
    "save_path = os.path.join(save_dir, 'PublicSchools_full')\n",
    "create_dir(save_path)\n",
    "\n",
    "shp_file.to_file(save_path, driver='ESRI Shapefile')"
   ]
  },
  {
   "cell_type": "code",
   "execution_count": 7,
   "id": "09ff5d9e-b9fc-4ecb-b85b-86c365b2638b",
   "metadata": {},
   "outputs": [],
   "source": [
    "def read_shp(file, rows=100):\n",
    "    \"\"\"\n",
    "    Read geoshapes file\n",
    "\n",
    "    Parameters\n",
    "    ----------\n",
    "        rows (int): number of rows per file to read\n",
    "\n",
    "    Returns\n",
    "    -------\n",
    "        df (GeoDataFrame)\n",
    "    \"\"\"\n",
    "    df = gpd.read_file(file, rows=rows)\n",
    "\n",
    "    return df"
   ]
  },
  {
   "cell_type": "code",
   "execution_count": 8,
   "id": "bec5d6d3-c902-48ce-af79-c4a5d3735b2a",
   "metadata": {},
   "outputs": [],
   "source": [
    "# read all geoshape files into dictionary\n",
    "dict_geo = {}\n",
    "for file in shp_files:\n",
    "    basename = os.path.basename(file).split('/')[0]\n",
    "    fname = os.path.basename(basename).split('.')[0]\n",
    "\n",
    "    # print(file)\n",
    "    dict_geo[fname] = read_shp(file, rows=6000)"
   ]
  },
  {
   "cell_type": "markdown",
   "id": "4119613b-7cf5-4a08-8bff-f85b4416f410",
   "metadata": {},
   "source": [
    "## Columns"
   ]
  },
  {
   "cell_type": "code",
   "execution_count": 6,
   "id": "ae4c8585-2db8-465c-8c71-3817803b331b",
   "metadata": {},
   "outputs": [
    {
     "data": {
      "text/plain": [
       "Index(['OBJECTID', 'ADDRESBR', 'BRNUM', 'BRSERTYP', 'CBSABR', 'CBSANAMB',\n",
       "       'CITYBR', 'CNTRYNAB', 'CNTYNAMB', 'DEPSUMBR', 'GEOCODE_CE', 'NAMEBR',\n",
       "       'STALPBR', 'STCNTYBR', 'STNAMEBR', 'UNINUMBR', 'ZIPBR', 'CERT',\n",
       "       'ADDRESS', 'ASSET', 'BKCLASS', 'CITY', 'CNTRYNA', 'DENOVO', 'DEPDOM',\n",
       "       'NAMEFULL', 'NAMEHCR', 'REGAGNT', 'REPDTE', 'RSSDID', 'STALP', 'STCNTY',\n",
       "       'STNAME', 'ZIP', 'BKMO', 'LOC_NAME', 'STATUS', 'SCORE', 'x', 'y',\n",
       "       'GeocodeSou', 'STD_ADDR_B', 'STD_ADDR', 'ZIP4BR', 'geometry'],\n",
       "      dtype='object')"
      ]
     },
     "execution_count": 6,
     "metadata": {},
     "output_type": "execute_result"
    }
   ],
   "source": [
    "dict_geo['FDIC_Insured_Banks'].columns"
   ]
  },
  {
   "cell_type": "code",
   "execution_count": 7,
   "id": "3c28d1d4-6e68-4209-823d-d0c912ff5bfd",
   "metadata": {},
   "outputs": [
    {
     "data": {
      "text/plain": [
       "Index(['FID', 'FACILITYID', 'NAME', 'ADDRESS', 'CITY', 'STATE', 'ZIP', 'ZIP4',\n",
       "       'TELEPHONE', 'TYPE', 'STATUS', 'POPULATION', 'COUNTY', 'COUNTYFIPS',\n",
       "       'COUNTRY', 'NAICS_CODE', 'NAICS_DESC', 'SOURCE', 'SOURCEDATE',\n",
       "       'VAL_METHOD', 'VAL_DATE', 'WEBSITE', 'SECURELVL', 'CAPACITY',\n",
       "       'SHAPE_Leng', 'GlobalID', 'CreationDa', 'Creator', 'EditDate', 'Editor',\n",
       "       'SHAPE_Le_1', 'SHAPE_Area', 'geometry'],\n",
       "      dtype='object')"
      ]
     },
     "execution_count": 7,
     "metadata": {},
     "output_type": "execute_result"
    }
   ],
   "source": [
    "dict_geo['Prison_Boundaries'].columns"
   ]
  },
  {
   "cell_type": "code",
   "execution_count": 8,
   "id": "408c481c-bfb1-46ad-a266-3b3f2731cf2f",
   "metadata": {},
   "outputs": [
    {
     "data": {
      "text/plain": [
       "Index(['OBJECTID', 'PERMANENT_', 'SOURCE_FEA', 'SOURCE_DAT', 'SOURCE_D_1',\n",
       "       'SOURCE_ORI', 'DATA_SECUR', 'DISTRIBUTI', 'LOADDATE', 'FTYPE', 'FCODE',\n",
       "       'NAME', 'ISLANDMARK', 'POINTLOCAT', 'ADMINTYPE', 'ADDRESSBUI',\n",
       "       'ADDRESS', 'CITY', 'STATE', 'ZIPCODE', 'GNIS_ID', 'FOOT_ID',\n",
       "       'COMPLEX_ID', 'GLOBALID', 'geometry'],\n",
       "      dtype='object')"
      ]
     },
     "execution_count": 8,
     "metadata": {},
     "output_type": "execute_result"
    }
   ],
   "source": [
    "dict_geo['Fire_Stations'].columns"
   ]
  },
  {
   "cell_type": "markdown",
   "id": "3c3e650c-62ac-4217-b942-aa8e570b1705",
   "metadata": {},
   "source": [
    "## CRS"
   ]
  },
  {
   "cell_type": "code",
   "execution_count": 9,
   "id": "a386dd30-25bf-4032-8960-f2d6574fe9c6",
   "metadata": {},
   "outputs": [
    {
     "data": {
      "text/plain": [
       "<Geographic 2D CRS: EPSG:4326>\n",
       "Name: WGS 84\n",
       "Axis Info [ellipsoidal]:\n",
       "- Lat[north]: Geodetic latitude (degree)\n",
       "- Lon[east]: Geodetic longitude (degree)\n",
       "Area of Use:\n",
       "- name: World.\n",
       "- bounds: (-180.0, -90.0, 180.0, 90.0)\n",
       "Datum: World Geodetic System 1984 ensemble\n",
       "- Ellipsoid: WGS 84\n",
       "- Prime Meridian: Greenwich"
      ]
     },
     "execution_count": 9,
     "metadata": {},
     "output_type": "execute_result"
    }
   ],
   "source": [
    "dict_geo['FDIC_Insured_Banks'].crs"
   ]
  },
  {
   "cell_type": "code",
   "execution_count": 10,
   "id": "5997ef62-6e5b-4df8-b0be-5c6fcad67890",
   "metadata": {},
   "outputs": [
    {
     "data": {
      "text/plain": [
       "<Projected CRS: EPSG:3857>\n",
       "Name: WGS 84 / Pseudo-Mercator\n",
       "Axis Info [cartesian]:\n",
       "- X[east]: Easting (metre)\n",
       "- Y[north]: Northing (metre)\n",
       "Area of Use:\n",
       "- name: World between 85.06°S and 85.06°N.\n",
       "- bounds: (-180.0, -85.06, 180.0, 85.06)\n",
       "Coordinate Operation:\n",
       "- name: Popular Visualisation Pseudo-Mercator\n",
       "- method: Popular Visualisation Pseudo Mercator\n",
       "Datum: World Geodetic System 1984 ensemble\n",
       "- Ellipsoid: WGS 84\n",
       "- Prime Meridian: Greenwich"
      ]
     },
     "execution_count": 10,
     "metadata": {},
     "output_type": "execute_result"
    }
   ],
   "source": [
    "dict_geo['Prison_Boundaries'].crs"
   ]
  },
  {
   "cell_type": "markdown",
   "id": "86bc0716-6bdf-416e-a18c-e41f305e14bd",
   "metadata": {},
   "source": [
    "# Full Address String\n",
    "* Output full address string (Street, City, State ZIP) for each GeoDataFrame"
   ]
  },
  {
   "cell_type": "code",
   "execution_count": 15,
   "id": "074c023a-0c8f-42c5-9497-a5c60ffb59e3",
   "metadata": {},
   "outputs": [],
   "source": [
    "def full_address(df):\n",
    "    \"\"\"\n",
    "    Concatenate each address component to a full address string\n",
    "         (Street, City, State ZIP)\n",
    "         \n",
    "    Parameters\n",
    "    ----------\n",
    "        df (GeoDataFrame)\n",
    "\n",
    "    Returns\n",
    "    -------\n",
    "        df (GeoDataFrame): with 'full_address' column\n",
    "    \"\"\"\n",
    "    if 'ZIP' in df.columns:\n",
    "        zip_col = 'ZIP'\n",
    "    elif 'ZIPCODE' in df.columns:\n",
    "        zip_col = 'ZIPCODE'\n",
    "    elif 'zip' in df.columns:\n",
    "        zip_col = 'zip'\n",
    "\n",
    "    if 'STATE' in df.columns:\n",
    "        state_col = 'STATE'\n",
    "    elif 'state' in df.columns:\n",
    "        state_col = 'state'\n",
    "    else:\n",
    "        state_col = 'STNAME'\n",
    "\n",
    "    if 'ADDRESS' in df.columns:\n",
    "        addr_col = 'ADDRESS'\n",
    "    elif 'street_add' in df.columns:\n",
    "        addr_col = 'street_add'\n",
    "    elif 'ADDRESS' not in df.columns:\n",
    "        addr_col = 'STREET'\n",
    "    elif ('STREET' not in df.columns) and ('ADDRESS' not in df.columns):\n",
    "        addr_col = 'STD_ADDR_B'\n",
    "\n",
    "    if 'CITY' in df.columns:\n",
    "        city_col = 'CITY'\n",
    "    elif 'city' in df.columns:\n",
    "        city_col = 'city'\n",
    "\n",
    "    # add 0 to zip code if only 4 digits\n",
    "    df['zip'] = df[zip_col].astype('str')\n",
    "    df['zip'] = df['zip'].apply(lambda x: '0' + x if len(x) <5 else x)\n",
    "    \n",
    "    df[addr_col] = df[addr_col].astype('str')\n",
    "    df[city_col] = df[city_col].astype('str')\n",
    "    df[state_col] = df[state_col].astype('str')\n",
    "    \n",
    "    df['Full_Address'] = df[[addr_col, city_col, state_col]].fillna('NaN').agg(', '.join, axis=1) + ' ' + df['zip']\n",
    "    df['Full_Address'] = df['Full_Address'].astype('str')\n",
    "             \n",
    "    return df"
   ]
  },
  {
   "cell_type": "code",
   "execution_count": 10,
   "id": "44217337-fd45-4f9e-a21b-39c42014df0d",
   "metadata": {},
   "outputs": [
    {
     "name": "stdout",
     "output_type": "stream",
     "text": [
      "AllPlacesOfWorship\n",
      "Alternative_Fueling_Stations\n",
      "CollegesUniversities\n",
      "FDIC_Insured_Banks\n",
      "Fire_Stations\n",
      "Hospitals\n",
      "NCUA_Insured_Credit_Unions_V_2024_Q1\n",
      "Pharmacies_\n",
      "Prison_Boundaries\n",
      "Private_Schools\n",
      "PublicSchools\n",
      "UrgentCareFacs\n",
      "CPU times: total: 328 ms\n",
      "Wall time: 577 ms\n"
     ]
    }
   ],
   "source": [
    "%%time\n",
    "dict_address = {}\n",
    "for fname in dict_geo:\n",
    "    print(fname)\n",
    "    dict_address[fname] = full_address(dict_geo[fname])"
   ]
  },
  {
   "cell_type": "markdown",
   "id": "151b1bb5-2ed1-477c-89f4-f3f4d2ccb419",
   "metadata": {},
   "source": [
    "# Calculate Latitutde / Longitude\n",
    "1. Convert each GeoDataFrame to 'EPSG:4326'\n",
    "2. Calculate centroids from geometry in each GeoDataFrame\n",
    "3. Extract latitude and longitude from each centroid"
   ]
  },
  {
   "cell_type": "code",
   "execution_count": 11,
   "id": "0705f4cd-d4f2-4b64-ad2c-20d0749bbdd7",
   "metadata": {},
   "outputs": [],
   "source": [
    "def convert_EPSG4326(dict):\n",
    "    \"\"\"\n",
    "    Convert each GeoDataFrame to 'EPSG:4326'\n",
    "         \n",
    "    Parameters\n",
    "    ----------\n",
    "        dict (dictionary): of GeoDataFrames\n",
    "\n",
    "    Returns\n",
    "    -------\n",
    "        dict (dictionary): GeoDataFrames of 'EPSG:4326' CRS\n",
    "    \"\"\"\n",
    "    for fname in dict:\n",
    "        dict[fname] = dict[fname].to_crs(\"EPSG:4326\")\n",
    "\n",
    "    return dict"
   ]
  },
  {
   "cell_type": "code",
   "execution_count": 12,
   "id": "15d03984-4369-4a52-a779-748dc3542b10",
   "metadata": {},
   "outputs": [],
   "source": [
    "def get_centroid(dict):\n",
    "    \"\"\"\n",
    "    Convert each GeoDataFrame to 'EPSG:4326'\n",
    "         \n",
    "    Parameters\n",
    "    ----------\n",
    "        dict (dictionary): GeoDataFrames of 'EPSG:4326' CRS\n",
    "\n",
    "    Returns\n",
    "    -------\n",
    "        dict (dictionary): GeoDataFrames with extracted centroids from geoshapes\n",
    "    \"\"\"\n",
    "    dict_centroids = {}\n",
    "    for fname in dict:\n",
    "        if 'x' in dict[fname].columns:\n",
    "            dict[fname] = dict[fname].rename(columns={'x': 'source_lon', 'y': 'source_lat'})\n",
    "            dict[fname]['Place_type'] = os.path.basename(fname)\n",
    "            dict[fname]['source_centroid'] = dict[fname]['geometry']\n",
    "        else:\n",
    "            dict[fname]['source_centroid'] = dict[fname]['geometry'].centroid\n",
    "            dict[fname]['source_lon'] = dict[fname]['geometry'].centroid.x\n",
    "            dict[fname]['source_lat'] = dict[fname]['geometry'].centroid.y\n",
    "            dict[fname]['Place_type'] = os.path.basename(fname)\n",
    "\n",
    "        dict_centroids[fname] = keep_columns(dict[fname])\n",
    "        \n",
    "    return dict_centroids"
   ]
  },
  {
   "cell_type": "code",
   "execution_count": 13,
   "id": "29653dbd-9bd0-486e-b732-e2727e1218af",
   "metadata": {},
   "outputs": [],
   "source": [
    "def keep_columns(df):\n",
    "    \"\"\"\n",
    "    Convert each GeoDataFrame to 'EPSG:4326'\n",
    "         \n",
    "    Parameters\n",
    "    ----------\n",
    "        df (GeoDataFrame): GeoDataFrames of 'EPSG:4326' CRS with extracted centroids\n",
    "\n",
    "    Returns\n",
    "    -------\n",
    "        new_df (GeoDataFrame): GeoDataFrames with only source centroid and full address columns\n",
    "    \"\"\"\n",
    "    cols = ['Full_Address', 'Place_type', 'source_centroid', 'source_lon', 'source_lat']\n",
    "    new_df = df[cols]\n",
    "\n",
    "    return new_df"
   ]
  },
  {
   "cell_type": "code",
   "execution_count": 14,
   "id": "e1e040ee-d00c-435f-8231-ab38636b2be8",
   "metadata": {},
   "outputs": [
    {
     "name": "stderr",
     "output_type": "stream",
     "text": [
      "C:\\Users\\bchan\\AppData\\Local\\Temp\\ipykernel_20536\\4286707561.py:20: UserWarning: Geometry is in a geographic CRS. Results from 'centroid' are likely incorrect. Use 'GeoSeries.to_crs()' to re-project geometries to a projected CRS before this operation.\n",
      "\n",
      "  dict[fname]['source_centroid'] = dict[fname]['geometry'].centroid\n",
      "C:\\Users\\bchan\\AppData\\Local\\Temp\\ipykernel_20536\\4286707561.py:21: UserWarning: Geometry is in a geographic CRS. Results from 'centroid' are likely incorrect. Use 'GeoSeries.to_crs()' to re-project geometries to a projected CRS before this operation.\n",
      "\n",
      "  dict[fname]['source_lon'] = dict[fname]['geometry'].centroid.x\n",
      "C:\\Users\\bchan\\AppData\\Local\\Temp\\ipykernel_20536\\4286707561.py:22: UserWarning: Geometry is in a geographic CRS. Results from 'centroid' are likely incorrect. Use 'GeoSeries.to_crs()' to re-project geometries to a projected CRS before this operation.\n",
      "\n",
      "  dict[fname]['source_lat'] = dict[fname]['geometry'].centroid.y\n",
      "C:\\Users\\bchan\\AppData\\Local\\Temp\\ipykernel_20536\\4286707561.py:20: UserWarning: Geometry is in a geographic CRS. Results from 'centroid' are likely incorrect. Use 'GeoSeries.to_crs()' to re-project geometries to a projected CRS before this operation.\n",
      "\n",
      "  dict[fname]['source_centroid'] = dict[fname]['geometry'].centroid\n",
      "C:\\Users\\bchan\\AppData\\Local\\Temp\\ipykernel_20536\\4286707561.py:21: UserWarning: Geometry is in a geographic CRS. Results from 'centroid' are likely incorrect. Use 'GeoSeries.to_crs()' to re-project geometries to a projected CRS before this operation.\n",
      "\n",
      "  dict[fname]['source_lon'] = dict[fname]['geometry'].centroid.x\n",
      "C:\\Users\\bchan\\AppData\\Local\\Temp\\ipykernel_20536\\4286707561.py:22: UserWarning: Geometry is in a geographic CRS. Results from 'centroid' are likely incorrect. Use 'GeoSeries.to_crs()' to re-project geometries to a projected CRS before this operation.\n",
      "\n",
      "  dict[fname]['source_lat'] = dict[fname]['geometry'].centroid.y\n",
      "C:\\Users\\bchan\\AppData\\Local\\Temp\\ipykernel_20536\\4286707561.py:20: UserWarning: Geometry is in a geographic CRS. Results from 'centroid' are likely incorrect. Use 'GeoSeries.to_crs()' to re-project geometries to a projected CRS before this operation.\n",
      "\n",
      "  dict[fname]['source_centroid'] = dict[fname]['geometry'].centroid\n",
      "C:\\Users\\bchan\\AppData\\Local\\Temp\\ipykernel_20536\\4286707561.py:21: UserWarning: Geometry is in a geographic CRS. Results from 'centroid' are likely incorrect. Use 'GeoSeries.to_crs()' to re-project geometries to a projected CRS before this operation.\n",
      "\n",
      "  dict[fname]['source_lon'] = dict[fname]['geometry'].centroid.x\n",
      "C:\\Users\\bchan\\AppData\\Local\\Temp\\ipykernel_20536\\4286707561.py:22: UserWarning: Geometry is in a geographic CRS. Results from 'centroid' are likely incorrect. Use 'GeoSeries.to_crs()' to re-project geometries to a projected CRS before this operation.\n",
      "\n",
      "  dict[fname]['source_lat'] = dict[fname]['geometry'].centroid.y\n",
      "C:\\Users\\bchan\\AppData\\Local\\Temp\\ipykernel_20536\\4286707561.py:20: UserWarning: Geometry is in a geographic CRS. Results from 'centroid' are likely incorrect. Use 'GeoSeries.to_crs()' to re-project geometries to a projected CRS before this operation.\n",
      "\n",
      "  dict[fname]['source_centroid'] = dict[fname]['geometry'].centroid\n",
      "C:\\Users\\bchan\\AppData\\Local\\Temp\\ipykernel_20536\\4286707561.py:21: UserWarning: Geometry is in a geographic CRS. Results from 'centroid' are likely incorrect. Use 'GeoSeries.to_crs()' to re-project geometries to a projected CRS before this operation.\n",
      "\n",
      "  dict[fname]['source_lon'] = dict[fname]['geometry'].centroid.x\n",
      "C:\\Users\\bchan\\AppData\\Local\\Temp\\ipykernel_20536\\4286707561.py:22: UserWarning: Geometry is in a geographic CRS. Results from 'centroid' are likely incorrect. Use 'GeoSeries.to_crs()' to re-project geometries to a projected CRS before this operation.\n",
      "\n",
      "  dict[fname]['source_lat'] = dict[fname]['geometry'].centroid.y\n",
      "C:\\Users\\bchan\\AppData\\Local\\Temp\\ipykernel_20536\\4286707561.py:20: UserWarning: Geometry is in a geographic CRS. Results from 'centroid' are likely incorrect. Use 'GeoSeries.to_crs()' to re-project geometries to a projected CRS before this operation.\n",
      "\n",
      "  dict[fname]['source_centroid'] = dict[fname]['geometry'].centroid\n",
      "C:\\Users\\bchan\\AppData\\Local\\Temp\\ipykernel_20536\\4286707561.py:21: UserWarning: Geometry is in a geographic CRS. Results from 'centroid' are likely incorrect. Use 'GeoSeries.to_crs()' to re-project geometries to a projected CRS before this operation.\n",
      "\n",
      "  dict[fname]['source_lon'] = dict[fname]['geometry'].centroid.x\n",
      "C:\\Users\\bchan\\AppData\\Local\\Temp\\ipykernel_20536\\4286707561.py:22: UserWarning: Geometry is in a geographic CRS. Results from 'centroid' are likely incorrect. Use 'GeoSeries.to_crs()' to re-project geometries to a projected CRS before this operation.\n",
      "\n",
      "  dict[fname]['source_lat'] = dict[fname]['geometry'].centroid.y\n",
      "C:\\Users\\bchan\\AppData\\Local\\Temp\\ipykernel_20536\\4286707561.py:20: UserWarning: Geometry is in a geographic CRS. Results from 'centroid' are likely incorrect. Use 'GeoSeries.to_crs()' to re-project geometries to a projected CRS before this operation.\n",
      "\n",
      "  dict[fname]['source_centroid'] = dict[fname]['geometry'].centroid\n",
      "C:\\Users\\bchan\\AppData\\Local\\Temp\\ipykernel_20536\\4286707561.py:21: UserWarning: Geometry is in a geographic CRS. Results from 'centroid' are likely incorrect. Use 'GeoSeries.to_crs()' to re-project geometries to a projected CRS before this operation.\n",
      "\n",
      "  dict[fname]['source_lon'] = dict[fname]['geometry'].centroid.x\n",
      "C:\\Users\\bchan\\AppData\\Local\\Temp\\ipykernel_20536\\4286707561.py:22: UserWarning: Geometry is in a geographic CRS. Results from 'centroid' are likely incorrect. Use 'GeoSeries.to_crs()' to re-project geometries to a projected CRS before this operation.\n",
      "\n",
      "  dict[fname]['source_lat'] = dict[fname]['geometry'].centroid.y\n",
      "C:\\Users\\bchan\\AppData\\Local\\Temp\\ipykernel_20536\\4286707561.py:20: UserWarning: Geometry is in a geographic CRS. Results from 'centroid' are likely incorrect. Use 'GeoSeries.to_crs()' to re-project geometries to a projected CRS before this operation.\n",
      "\n",
      "  dict[fname]['source_centroid'] = dict[fname]['geometry'].centroid\n",
      "C:\\Users\\bchan\\AppData\\Local\\Temp\\ipykernel_20536\\4286707561.py:21: UserWarning: Geometry is in a geographic CRS. Results from 'centroid' are likely incorrect. Use 'GeoSeries.to_crs()' to re-project geometries to a projected CRS before this operation.\n",
      "\n",
      "  dict[fname]['source_lon'] = dict[fname]['geometry'].centroid.x\n",
      "C:\\Users\\bchan\\AppData\\Local\\Temp\\ipykernel_20536\\4286707561.py:22: UserWarning: Geometry is in a geographic CRS. Results from 'centroid' are likely incorrect. Use 'GeoSeries.to_crs()' to re-project geometries to a projected CRS before this operation.\n",
      "\n",
      "  dict[fname]['source_lat'] = dict[fname]['geometry'].centroid.y\n",
      "C:\\Users\\bchan\\AppData\\Local\\Temp\\ipykernel_20536\\4286707561.py:20: UserWarning: Geometry is in a geographic CRS. Results from 'centroid' are likely incorrect. Use 'GeoSeries.to_crs()' to re-project geometries to a projected CRS before this operation.\n",
      "\n",
      "  dict[fname]['source_centroid'] = dict[fname]['geometry'].centroid\n",
      "C:\\Users\\bchan\\AppData\\Local\\Temp\\ipykernel_20536\\4286707561.py:21: UserWarning: Geometry is in a geographic CRS. Results from 'centroid' are likely incorrect. Use 'GeoSeries.to_crs()' to re-project geometries to a projected CRS before this operation.\n",
      "\n",
      "  dict[fname]['source_lon'] = dict[fname]['geometry'].centroid.x\n",
      "C:\\Users\\bchan\\AppData\\Local\\Temp\\ipykernel_20536\\4286707561.py:22: UserWarning: Geometry is in a geographic CRS. Results from 'centroid' are likely incorrect. Use 'GeoSeries.to_crs()' to re-project geometries to a projected CRS before this operation.\n",
      "\n",
      "  dict[fname]['source_lat'] = dict[fname]['geometry'].centroid.y\n",
      "C:\\Users\\bchan\\AppData\\Local\\Temp\\ipykernel_20536\\4286707561.py:20: UserWarning: Geometry is in a geographic CRS. Results from 'centroid' are likely incorrect. Use 'GeoSeries.to_crs()' to re-project geometries to a projected CRS before this operation.\n",
      "\n",
      "  dict[fname]['source_centroid'] = dict[fname]['geometry'].centroid\n",
      "C:\\Users\\bchan\\AppData\\Local\\Temp\\ipykernel_20536\\4286707561.py:21: UserWarning: Geometry is in a geographic CRS. Results from 'centroid' are likely incorrect. Use 'GeoSeries.to_crs()' to re-project geometries to a projected CRS before this operation.\n",
      "\n",
      "  dict[fname]['source_lon'] = dict[fname]['geometry'].centroid.x\n",
      "C:\\Users\\bchan\\AppData\\Local\\Temp\\ipykernel_20536\\4286707561.py:22: UserWarning: Geometry is in a geographic CRS. Results from 'centroid' are likely incorrect. Use 'GeoSeries.to_crs()' to re-project geometries to a projected CRS before this operation.\n",
      "\n",
      "  dict[fname]['source_lat'] = dict[fname]['geometry'].centroid.y\n",
      "C:\\Users\\bchan\\AppData\\Local\\Temp\\ipykernel_20536\\4286707561.py:20: UserWarning: Geometry is in a geographic CRS. Results from 'centroid' are likely incorrect. Use 'GeoSeries.to_crs()' to re-project geometries to a projected CRS before this operation.\n",
      "\n",
      "  dict[fname]['source_centroid'] = dict[fname]['geometry'].centroid\n",
      "C:\\Users\\bchan\\AppData\\Local\\Temp\\ipykernel_20536\\4286707561.py:21: UserWarning: Geometry is in a geographic CRS. Results from 'centroid' are likely incorrect. Use 'GeoSeries.to_crs()' to re-project geometries to a projected CRS before this operation.\n",
      "\n",
      "  dict[fname]['source_lon'] = dict[fname]['geometry'].centroid.x\n",
      "C:\\Users\\bchan\\AppData\\Local\\Temp\\ipykernel_20536\\4286707561.py:22: UserWarning: Geometry is in a geographic CRS. Results from 'centroid' are likely incorrect. Use 'GeoSeries.to_crs()' to re-project geometries to a projected CRS before this operation.\n",
      "\n",
      "  dict[fname]['source_lat'] = dict[fname]['geometry'].centroid.y\n",
      "C:\\Users\\bchan\\AppData\\Local\\Temp\\ipykernel_20536\\4286707561.py:20: UserWarning: Geometry is in a geographic CRS. Results from 'centroid' are likely incorrect. Use 'GeoSeries.to_crs()' to re-project geometries to a projected CRS before this operation.\n",
      "\n",
      "  dict[fname]['source_centroid'] = dict[fname]['geometry'].centroid\n",
      "C:\\Users\\bchan\\AppData\\Local\\Temp\\ipykernel_20536\\4286707561.py:21: UserWarning: Geometry is in a geographic CRS. Results from 'centroid' are likely incorrect. Use 'GeoSeries.to_crs()' to re-project geometries to a projected CRS before this operation.\n",
      "\n",
      "  dict[fname]['source_lon'] = dict[fname]['geometry'].centroid.x\n",
      "C:\\Users\\bchan\\AppData\\Local\\Temp\\ipykernel_20536\\4286707561.py:22: UserWarning: Geometry is in a geographic CRS. Results from 'centroid' are likely incorrect. Use 'GeoSeries.to_crs()' to re-project geometries to a projected CRS before this operation.\n",
      "\n",
      "  dict[fname]['source_lat'] = dict[fname]['geometry'].centroid.y\n"
     ]
    }
   ],
   "source": [
    "# if you get an error on the first pass, try re-running the cell\n",
    "dict_EPSG4326 = convert_EPSG4326(dict_address)\n",
    "dict_centroid = get_centroid(dict_EPSG4326)"
   ]
  },
  {
   "cell_type": "code",
   "execution_count": 29,
   "id": "856e174e-a73a-4e88-944d-b672c58104c6",
   "metadata": {},
   "outputs": [
    {
     "data": {
      "text/html": [
       "<div>\n",
       "<style scoped>\n",
       "    .dataframe tbody tr th:only-of-type {\n",
       "        vertical-align: middle;\n",
       "    }\n",
       "\n",
       "    .dataframe tbody tr th {\n",
       "        vertical-align: top;\n",
       "    }\n",
       "\n",
       "    .dataframe thead th {\n",
       "        text-align: right;\n",
       "    }\n",
       "</style>\n",
       "<table border=\"1\" class=\"dataframe\">\n",
       "  <thead>\n",
       "    <tr style=\"text-align: right;\">\n",
       "      <th></th>\n",
       "      <th>Full_Address</th>\n",
       "      <th>Place_type</th>\n",
       "      <th>source_centroid</th>\n",
       "      <th>source_lon</th>\n",
       "      <th>source_lat</th>\n",
       "    </tr>\n",
       "  </thead>\n",
       "  <tbody>\n",
       "    <tr>\n",
       "      <th>0</th>\n",
       "      <td>100 North Tryon St, Charlotte, North Carolina ...</td>\n",
       "      <td>FDIC_Insured_Banks</td>\n",
       "      <td>POINT (-72.87865 41.60144)</td>\n",
       "      <td>-72.878648</td>\n",
       "      <td>41.601435</td>\n",
       "    </tr>\n",
       "    <tr>\n",
       "      <th>1</th>\n",
       "      <td>100 North Tryon St, Charlotte, North Carolina ...</td>\n",
       "      <td>FDIC_Insured_Banks</td>\n",
       "      <td>POINT (-70.25667 43.65743)</td>\n",
       "      <td>-70.256668</td>\n",
       "      <td>43.657432</td>\n",
       "    </tr>\n",
       "    <tr>\n",
       "      <th>2</th>\n",
       "      <td>2 Elm Street, Camden, Maine 04843</td>\n",
       "      <td>FDIC_Insured_Banks</td>\n",
       "      <td>POINT (-68.42462 44.54133)</td>\n",
       "      <td>-68.424621</td>\n",
       "      <td>44.541326</td>\n",
       "    </tr>\n",
       "    <tr>\n",
       "      <th>3</th>\n",
       "      <td>1 Lincoln St. Fl 1, Boston, Massachusetts 02111</td>\n",
       "      <td>FDIC_Insured_Banks</td>\n",
       "      <td>POINT (-71.05796 42.35282)</td>\n",
       "      <td>-71.057959</td>\n",
       "      <td>42.352824</td>\n",
       "    </tr>\n",
       "    <tr>\n",
       "      <th>4</th>\n",
       "      <td>100 North Tryon St, Charlotte, North Carolina ...</td>\n",
       "      <td>FDIC_Insured_Banks</td>\n",
       "      <td>POINT (-71.11891 42.37383)</td>\n",
       "      <td>-71.118913</td>\n",
       "      <td>42.373832</td>\n",
       "    </tr>\n",
       "    <tr>\n",
       "      <th>...</th>\n",
       "      <td>...</td>\n",
       "      <td>...</td>\n",
       "      <td>...</td>\n",
       "      <td>...</td>\n",
       "      <td>...</td>\n",
       "    </tr>\n",
       "    <tr>\n",
       "      <th>5995</th>\n",
       "      <td>1039 West Mitchell Street, Milwaukee, Wisconsi...</td>\n",
       "      <td>FDIC_Insured_Banks</td>\n",
       "      <td>POINT (-87.92526 43.01226)</td>\n",
       "      <td>-87.925261</td>\n",
       "      <td>43.012262</td>\n",
       "    </tr>\n",
       "    <tr>\n",
       "      <th>5996</th>\n",
       "      <td>40214 S Ekern Avenue, Pigeon Falls, Wisconsin ...</td>\n",
       "      <td>FDIC_Insured_Banks</td>\n",
       "      <td>POINT (-91.21058 44.42560)</td>\n",
       "      <td>-91.210581</td>\n",
       "      <td>44.425597</td>\n",
       "    </tr>\n",
       "    <tr>\n",
       "      <th>5997</th>\n",
       "      <td>210 East Main Street, Waupun, Wisconsin 53963</td>\n",
       "      <td>FDIC_Insured_Banks</td>\n",
       "      <td>POINT (-88.67650 43.80840)</td>\n",
       "      <td>-88.676503</td>\n",
       "      <td>43.808401</td>\n",
       "    </tr>\n",
       "    <tr>\n",
       "      <th>5998</th>\n",
       "      <td>101 South Main Street, Viroqua, Wisconsin 54665</td>\n",
       "      <td>FDIC_Insured_Banks</td>\n",
       "      <td>POINT (-90.88928 43.55612)</td>\n",
       "      <td>-90.889284</td>\n",
       "      <td>43.556120</td>\n",
       "    </tr>\n",
       "    <tr>\n",
       "      <th>5999</th>\n",
       "      <td>112 West Fulton Street, Waupaca, Wisconsin 54981</td>\n",
       "      <td>FDIC_Insured_Banks</td>\n",
       "      <td>POINT (-89.08578 44.35800)</td>\n",
       "      <td>-89.085782</td>\n",
       "      <td>44.357997</td>\n",
       "    </tr>\n",
       "  </tbody>\n",
       "</table>\n",
       "<p>6000 rows × 5 columns</p>\n",
       "</div>"
      ],
      "text/plain": [
       "                                           Full_Address          Place_type  \\\n",
       "0     100 North Tryon St, Charlotte, North Carolina ...  FDIC_Insured_Banks   \n",
       "1     100 North Tryon St, Charlotte, North Carolina ...  FDIC_Insured_Banks   \n",
       "2                     2 Elm Street, Camden, Maine 04843  FDIC_Insured_Banks   \n",
       "3       1 Lincoln St. Fl 1, Boston, Massachusetts 02111  FDIC_Insured_Banks   \n",
       "4     100 North Tryon St, Charlotte, North Carolina ...  FDIC_Insured_Banks   \n",
       "...                                                 ...                 ...   \n",
       "5995  1039 West Mitchell Street, Milwaukee, Wisconsi...  FDIC_Insured_Banks   \n",
       "5996  40214 S Ekern Avenue, Pigeon Falls, Wisconsin ...  FDIC_Insured_Banks   \n",
       "5997      210 East Main Street, Waupun, Wisconsin 53963  FDIC_Insured_Banks   \n",
       "5998    101 South Main Street, Viroqua, Wisconsin 54665  FDIC_Insured_Banks   \n",
       "5999   112 West Fulton Street, Waupaca, Wisconsin 54981  FDIC_Insured_Banks   \n",
       "\n",
       "                 source_centroid  source_lon  source_lat  \n",
       "0     POINT (-72.87865 41.60144)  -72.878648   41.601435  \n",
       "1     POINT (-70.25667 43.65743)  -70.256668   43.657432  \n",
       "2     POINT (-68.42462 44.54133)  -68.424621   44.541326  \n",
       "3     POINT (-71.05796 42.35282)  -71.057959   42.352824  \n",
       "4     POINT (-71.11891 42.37383)  -71.118913   42.373832  \n",
       "...                          ...         ...         ...  \n",
       "5995  POINT (-87.92526 43.01226)  -87.925261   43.012262  \n",
       "5996  POINT (-91.21058 44.42560)  -91.210581   44.425597  \n",
       "5997  POINT (-88.67650 43.80840)  -88.676503   43.808401  \n",
       "5998  POINT (-90.88928 43.55612)  -90.889284   43.556120  \n",
       "5999  POINT (-89.08578 44.35800)  -89.085782   44.357997  \n",
       "\n",
       "[6000 rows x 5 columns]"
      ]
     },
     "execution_count": 29,
     "metadata": {},
     "output_type": "execute_result"
    }
   ],
   "source": [
    "# check centroids\n",
    "dict_centroid['FDIC_Insured_Banks']"
   ]
  },
  {
   "cell_type": "markdown",
   "id": "435b53b6-a9cd-4e4f-bd57-24bce7b401a5",
   "metadata": {},
   "source": [
    "# Save Geoshape Files"
   ]
  },
  {
   "cell_type": "code",
   "execution_count": 18,
   "id": "ba8f8238-d384-47fa-8a71-876ed6353cd2",
   "metadata": {},
   "outputs": [],
   "source": [
    "def save_shp(dict, save_dir):\n",
    "    \"\"\"\n",
    "    Save each GeoDataFrame to individual geoshape files\n",
    "         \n",
    "    Parameters\n",
    "    ----------\n",
    "        dict (dictionary): GeoDataFrames of 'EPSG:4326' CRS with extracted centroids\n",
    "        save_dir (str): path of desired output directory\n",
    "    \"\"\"\n",
    "    for fname in dict:\n",
    "        shp_file = dict[fname].set_geometry('source_centroid')\n",
    "        \n",
    "        save_path = os.path.join(save_dir, f\"{fname}\")\n",
    "        create_dir(save_path)\n",
    "        \n",
    "        shp_file.to_file(save_path, driver='ESRI Shapefile')"
   ]
  },
  {
   "cell_type": "code",
   "execution_count": 19,
   "id": "32f5379e-3213-43de-a94c-f9e7d5d3ce7a",
   "metadata": {},
   "outputs": [],
   "source": [
    "def create_dir(save_dir):\n",
    "    \"\"\"\n",
    "    Creates directory if it does not exist\n",
    "         \n",
    "    Parameters\n",
    "    ----------\n",
    "        save_dir (str): path of desired output directory\n",
    "    \"\"\"\n",
    "    if not os.path.exists(save_dir):\n",
    "        os.makedirs(save_dir)"
   ]
  },
  {
   "cell_type": "code",
   "execution_count": 32,
   "id": "1e03f832-d0d2-414c-9c5d-e29a491a7083",
   "metadata": {},
   "outputs": [
    {
     "name": "stderr",
     "output_type": "stream",
     "text": [
      "C:\\Users\\bchan\\AppData\\Local\\Temp\\ipykernel_23184\\2389177360.py:16: UserWarning: Column names longer than 10 characters will be truncated when saved to ESRI Shapefile.\n",
      "  shp_file.to_file(save_path, driver='ESRI Shapefile')\n",
      "C:\\Users\\bchan\\AppData\\Local\\Temp\\ipykernel_23184\\2389177360.py:16: UserWarning: Column names longer than 10 characters will be truncated when saved to ESRI Shapefile.\n",
      "  shp_file.to_file(save_path, driver='ESRI Shapefile')\n",
      "C:\\Users\\bchan\\AppData\\Local\\Temp\\ipykernel_23184\\2389177360.py:16: UserWarning: Column names longer than 10 characters will be truncated when saved to ESRI Shapefile.\n",
      "  shp_file.to_file(save_path, driver='ESRI Shapefile')\n",
      "C:\\Users\\bchan\\AppData\\Local\\Temp\\ipykernel_23184\\2389177360.py:16: UserWarning: Column names longer than 10 characters will be truncated when saved to ESRI Shapefile.\n",
      "  shp_file.to_file(save_path, driver='ESRI Shapefile')\n",
      "C:\\Users\\bchan\\AppData\\Local\\Temp\\ipykernel_23184\\2389177360.py:16: UserWarning: Column names longer than 10 characters will be truncated when saved to ESRI Shapefile.\n",
      "  shp_file.to_file(save_path, driver='ESRI Shapefile')\n",
      "C:\\Users\\bchan\\AppData\\Local\\Temp\\ipykernel_23184\\2389177360.py:16: UserWarning: Column names longer than 10 characters will be truncated when saved to ESRI Shapefile.\n",
      "  shp_file.to_file(save_path, driver='ESRI Shapefile')\n",
      "C:\\Users\\bchan\\AppData\\Local\\Temp\\ipykernel_23184\\2389177360.py:16: UserWarning: Column names longer than 10 characters will be truncated when saved to ESRI Shapefile.\n",
      "  shp_file.to_file(save_path, driver='ESRI Shapefile')\n",
      "C:\\Users\\bchan\\AppData\\Local\\Temp\\ipykernel_23184\\2389177360.py:16: UserWarning: Column names longer than 10 characters will be truncated when saved to ESRI Shapefile.\n",
      "  shp_file.to_file(save_path, driver='ESRI Shapefile')\n",
      "C:\\Users\\bchan\\AppData\\Local\\Temp\\ipykernel_23184\\2389177360.py:16: UserWarning: Column names longer than 10 characters will be truncated when saved to ESRI Shapefile.\n",
      "  shp_file.to_file(save_path, driver='ESRI Shapefile')\n",
      "C:\\Users\\bchan\\AppData\\Local\\Temp\\ipykernel_23184\\2389177360.py:16: UserWarning: Column names longer than 10 characters will be truncated when saved to ESRI Shapefile.\n",
      "  shp_file.to_file(save_path, driver='ESRI Shapefile')\n",
      "C:\\Users\\bchan\\AppData\\Local\\Temp\\ipykernel_23184\\2389177360.py:16: UserWarning: Column names longer than 10 characters will be truncated when saved to ESRI Shapefile.\n",
      "  shp_file.to_file(save_path, driver='ESRI Shapefile')\n",
      "C:\\Users\\bchan\\AppData\\Local\\Temp\\ipykernel_23184\\2389177360.py:16: UserWarning: Column names longer than 10 characters will be truncated when saved to ESRI Shapefile.\n",
      "  shp_file.to_file(save_path, driver='ESRI Shapefile')\n"
     ]
    }
   ],
   "source": [
    "# save files\n",
    "save_dir = os.path.join(abs_path, 'output/HIFLD/centroids')\n",
    "create_dir(save_dir)\n",
    "\n",
    "save_shp(dict_centroid, save_dir)"
   ]
  },
  {
   "cell_type": "code",
   "execution_count": 22,
   "id": "c4538a8d-9b9d-4ae2-9dc1-7003aa6d6ca6",
   "metadata": {},
   "outputs": [
    {
     "data": {
      "text/html": [
       "<div>\n",
       "<style scoped>\n",
       "    .dataframe tbody tr th:only-of-type {\n",
       "        vertical-align: middle;\n",
       "    }\n",
       "\n",
       "    .dataframe tbody tr th {\n",
       "        vertical-align: top;\n",
       "    }\n",
       "\n",
       "    .dataframe thead th {\n",
       "        text-align: right;\n",
       "    }\n",
       "</style>\n",
       "<table border=\"1\" class=\"dataframe\">\n",
       "  <thead>\n",
       "    <tr style=\"text-align: right;\">\n",
       "      <th></th>\n",
       "      <th>Full_Address</th>\n",
       "      <th>Place_type</th>\n",
       "      <th>source_centroid</th>\n",
       "      <th>source_lon</th>\n",
       "      <th>source_lat</th>\n",
       "    </tr>\n",
       "  </thead>\n",
       "  <tbody>\n",
       "    <tr>\n",
       "      <th>0</th>\n",
       "      <td>523 E BROADWAY, SOUTH BOSTON, MA 02127</td>\n",
       "      <td>AllPlacesOfWorship</td>\n",
       "      <td>POINT (-71.04352 42.33547)</td>\n",
       "      <td>-71.043522</td>\n",
       "      <td>42.335472</td>\n",
       "    </tr>\n",
       "    <tr>\n",
       "      <th>1</th>\n",
       "      <td>454 ESSEX ST, LAWRENCE, MA 01840</td>\n",
       "      <td>AllPlacesOfWorship</td>\n",
       "      <td>POINT (-71.16494 42.70621)</td>\n",
       "      <td>-71.164940</td>\n",
       "      <td>42.706213</td>\n",
       "    </tr>\n",
       "    <tr>\n",
       "      <th>2</th>\n",
       "      <td>569 BROADWAY, NEWARK, NJ 07104</td>\n",
       "      <td>AllPlacesOfWorship</td>\n",
       "      <td>POINT (-74.16282 40.76993)</td>\n",
       "      <td>-74.162821</td>\n",
       "      <td>40.769935</td>\n",
       "    </tr>\n",
       "    <tr>\n",
       "      <th>3</th>\n",
       "      <td>3210 SOUTHWESTERN BLVD, ORCHARD PARK, NY 14127</td>\n",
       "      <td>AllPlacesOfWorship</td>\n",
       "      <td>POINT (-78.74782 42.79853)</td>\n",
       "      <td>-78.747816</td>\n",
       "      <td>42.798535</td>\n",
       "    </tr>\n",
       "    <tr>\n",
       "      <th>4</th>\n",
       "      <td>431 CAMPGROUND RD, LIVERMORE FLS, ME 04254</td>\n",
       "      <td>AllPlacesOfWorship</td>\n",
       "      <td>POINT (-70.11378 44.42861)</td>\n",
       "      <td>-70.113777</td>\n",
       "      <td>44.428610</td>\n",
       "    </tr>\n",
       "    <tr>\n",
       "      <th>...</th>\n",
       "      <td>...</td>\n",
       "      <td>...</td>\n",
       "      <td>...</td>\n",
       "      <td>...</td>\n",
       "      <td>...</td>\n",
       "    </tr>\n",
       "    <tr>\n",
       "      <th>1294</th>\n",
       "      <td>115 STEWARTS FERRY PIKE, NASHVILLE, TN 37214</td>\n",
       "      <td>PublicSchools</td>\n",
       "      <td>POINT (-86.65375 36.16762)</td>\n",
       "      <td>-86.653751</td>\n",
       "      <td>36.167621</td>\n",
       "    </tr>\n",
       "    <tr>\n",
       "      <th>1295</th>\n",
       "      <td>1250 VOLLINTINE AVE, MEMPHIS, TN 38107</td>\n",
       "      <td>PublicSchools</td>\n",
       "      <td>POINT (-90.01485 35.16550)</td>\n",
       "      <td>-90.014851</td>\n",
       "      <td>35.165500</td>\n",
       "    </tr>\n",
       "    <tr>\n",
       "      <th>1296</th>\n",
       "      <td>1250 VOLLINTINE AVE, MEMPHIS, TN 38107</td>\n",
       "      <td>PublicSchools</td>\n",
       "      <td>POINT (-90.01469 35.16544)</td>\n",
       "      <td>-90.014688</td>\n",
       "      <td>35.165440</td>\n",
       "    </tr>\n",
       "    <tr>\n",
       "      <th>1297</th>\n",
       "      <td>2610 CINEMA DR, MARYVILLE, TN 37804</td>\n",
       "      <td>PublicSchools</td>\n",
       "      <td>POINT (-83.94173 35.79683)</td>\n",
       "      <td>-83.941730</td>\n",
       "      <td>35.796833</td>\n",
       "    </tr>\n",
       "    <tr>\n",
       "      <th>1298</th>\n",
       "      <td>1470 EAGLEVIEW BLVD, ANTIOCH, TN 37013</td>\n",
       "      <td>PublicSchools</td>\n",
       "      <td>POINT (-86.64064 36.04951)</td>\n",
       "      <td>-86.640643</td>\n",
       "      <td>36.049511</td>\n",
       "    </tr>\n",
       "  </tbody>\n",
       "</table>\n",
       "<p>432851 rows × 5 columns</p>\n",
       "</div>"
      ],
      "text/plain": [
       "                                        Full_Address          Place_type  \\\n",
       "0             523 E BROADWAY, SOUTH BOSTON, MA 02127  AllPlacesOfWorship   \n",
       "1                   454 ESSEX ST, LAWRENCE, MA 01840  AllPlacesOfWorship   \n",
       "2                     569 BROADWAY, NEWARK, NJ 07104  AllPlacesOfWorship   \n",
       "3     3210 SOUTHWESTERN BLVD, ORCHARD PARK, NY 14127  AllPlacesOfWorship   \n",
       "4         431 CAMPGROUND RD, LIVERMORE FLS, ME 04254  AllPlacesOfWorship   \n",
       "...                                              ...                 ...   \n",
       "1294    115 STEWARTS FERRY PIKE, NASHVILLE, TN 37214       PublicSchools   \n",
       "1295          1250 VOLLINTINE AVE, MEMPHIS, TN 38107       PublicSchools   \n",
       "1296          1250 VOLLINTINE AVE, MEMPHIS, TN 38107       PublicSchools   \n",
       "1297             2610 CINEMA DR, MARYVILLE, TN 37804       PublicSchools   \n",
       "1298          1470 EAGLEVIEW BLVD, ANTIOCH, TN 37013       PublicSchools   \n",
       "\n",
       "                 source_centroid  source_lon  source_lat  \n",
       "0     POINT (-71.04352 42.33547)  -71.043522   42.335472  \n",
       "1     POINT (-71.16494 42.70621)  -71.164940   42.706213  \n",
       "2     POINT (-74.16282 40.76993)  -74.162821   40.769935  \n",
       "3     POINT (-78.74782 42.79853)  -78.747816   42.798535  \n",
       "4     POINT (-70.11378 44.42861)  -70.113777   44.428610  \n",
       "...                          ...         ...         ...  \n",
       "1294  POINT (-86.65375 36.16762)  -86.653751   36.167621  \n",
       "1295  POINT (-90.01485 35.16550)  -90.014851   35.165500  \n",
       "1296  POINT (-90.01469 35.16544)  -90.014688   35.165440  \n",
       "1297  POINT (-83.94173 35.79683)  -83.941730   35.796833  \n",
       "1298  POINT (-86.64064 36.04951)  -86.640643   36.049511  \n",
       "\n",
       "[432851 rows x 5 columns]"
      ]
     },
     "execution_count": 22,
     "metadata": {},
     "output_type": "execute_result"
    }
   ],
   "source": [
    "gpd_concat = pd.concat([dict_centroid[fname] for fname in dict_centroid])\n",
    "gpd_concat = pd.concat([gpd_concat, allplacesofworship_states_EPSG4326, publicschools_address_EPSG4326])\n",
    "gpd_concat"
   ]
  },
  {
   "cell_type": "code",
   "execution_count": 23,
   "id": "9e29598d-457d-404f-85fe-1cbf88fbe467",
   "metadata": {},
   "outputs": [],
   "source": [
    "gpd_concat.to_csv(os.path.join(save_dir, \"centroids_432k.csv\"), index=False)"
   ]
  },
  {
   "cell_type": "code",
   "execution_count": null,
   "id": "d5ab938a-850d-4c00-89b6-2be23f8fa5cc",
   "metadata": {},
   "outputs": [],
   "source": []
  }
 ],
 "metadata": {
  "kernelspec": {
   "display_name": "Python 3 (ipykernel)",
   "language": "python",
   "name": "python3"
  },
  "language_info": {
   "codemirror_mode": {
    "name": "ipython",
    "version": 3
   },
   "file_extension": ".py",
   "mimetype": "text/x-python",
   "name": "python",
   "nbconvert_exporter": "python",
   "pygments_lexer": "ipython3",
   "version": "3.11.9"
  }
 },
 "nbformat": 4,
 "nbformat_minor": 5
}
