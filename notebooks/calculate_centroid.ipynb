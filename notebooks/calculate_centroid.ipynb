{
 "cells": [
  {
   "cell_type": "code",
   "execution_count": 1,
   "id": "b20cdfe6-1e1e-4443-9694-ffcb264bf8fb",
   "metadata": {},
   "outputs": [],
   "source": [
    "import os\n",
    "import sys\n",
    "import csv\n",
    "\n",
    "import numpy as np\n",
    "import geopandas as gpd\n",
    "import pandas as pd\n",
    "import matplotlib.pyplot as plt"
   ]
  },
  {
   "cell_type": "code",
   "execution_count": 2,
   "id": "d20914e7-f9e2-4b65-8b13-7af8818d97dd",
   "metadata": {},
   "outputs": [],
   "source": [
    "# list shp files recursively\n",
    "os.chdir('..')\n",
    "abs_path = os.getcwd()\n",
    "\n",
    "HIFLD_path = os.path.join(abs_path, 'data/HIFLD')\n",
    "shp_files = [os.path.join(root, name) \\\n",
    "             for root, dirs, files in os.walk(HIFLD_path) \\\n",
    "             for name in files \\\n",
    "             if name.endswith(('.shp'))]"
   ]
  },
  {
   "cell_type": "code",
   "execution_count": 3,
   "id": "3f60707f-3ad0-4120-8151-47045b93e5ff",
   "metadata": {},
   "outputs": [
    {
     "name": "stdout",
     "output_type": "stream",
     "text": [
      "There are 267622 observations in AllPlacesOfWorship.\n",
      "There are 7167 observations in CollegesUniversities.\n",
      "There are 93348 observations in FDIC_Insured_Banks.\n",
      "There are 54785 observations in Fire_Stations.\n",
      "There are 8655 observations in Hospitals.\n",
      "There are 5056 observations in Prison_Boundaries.\n",
      "There are 112783 observations in PublicSchools.\n",
      "There are 5298 observations in UrgentCareFacs.\n"
     ]
    }
   ],
   "source": [
    "# number of observations per geoshape file \n",
    "for file in shp_files:\n",
    "    with open(file, 'rb') as f:\n",
    "        row_count = len(f.readlines()) - 1\n",
    "        \n",
    "        basename = os.path.basename(file).split('/')[0]\n",
    "        fname = os.path.basename(basename).split('.')[0]\n",
    "        \n",
    "        print('There are {} observations in {}.'.format(row_count, fname))"
   ]
  },
  {
   "cell_type": "markdown",
   "id": "188bc05c-b6da-42df-9ac1-27077ca01f9d",
   "metadata": {},
   "source": [
    "# Explore Geoshape Files\n",
    "* Columns\n",
    "* Data types\n",
    "* CRS"
   ]
  },
  {
   "cell_type": "code",
   "execution_count": 4,
   "id": "09ff5d9e-b9fc-4ecb-b85b-86c365b2638b",
   "metadata": {},
   "outputs": [],
   "source": [
    "def read_shp(file, rows=100):\n",
    "    \"\"\"\n",
    "    Read geoshapes file\n",
    "\n",
    "    Parameters\n",
    "    ----------\n",
    "        rows (int): number of rows per file to read\n",
    "\n",
    "    Returns\n",
    "    -------\n",
    "        df (GeoDataFrame)\n",
    "    \"\"\"\n",
    "    df = gpd.read_file(file, rows=rows)\n",
    "\n",
    "    return df"
   ]
  },
  {
   "cell_type": "code",
   "execution_count": 5,
   "id": "bec5d6d3-c902-48ce-af79-c4a5d3735b2a",
   "metadata": {},
   "outputs": [],
   "source": [
    "# read all geoshape files into dictionary\n",
    "dict_geo = {}\n",
    "for file in shp_files:\n",
    "    basename = os.path.basename(file).split('/')[0]\n",
    "    fname = os.path.basename(basename).split('.')[0]\n",
    "\n",
    "    # print(file)\n",
    "    dict_geo[fname] = read_shp(file, rows=5000)"
   ]
  },
  {
   "cell_type": "markdown",
   "id": "4119613b-7cf5-4a08-8bff-f85b4416f410",
   "metadata": {},
   "source": [
    "## Columns"
   ]
  },
  {
   "cell_type": "code",
   "execution_count": 6,
   "id": "ae4c8585-2db8-465c-8c71-3817803b331b",
   "metadata": {},
   "outputs": [
    {
     "data": {
      "text/plain": [
       "Index(['OBJECTID', 'ADDRESBR', 'BRNUM', 'BRSERTYP', 'CBSABR', 'CBSANAMB',\n",
       "       'CITYBR', 'CNTRYNAB', 'CNTYNAMB', 'DEPSUMBR', 'GEOCODE_CE', 'NAMEBR',\n",
       "       'STALPBR', 'STCNTYBR', 'STNAMEBR', 'UNINUMBR', 'ZIPBR', 'CERT',\n",
       "       'ADDRESS', 'ASSET', 'BKCLASS', 'CITY', 'CNTRYNA', 'DENOVO', 'DEPDOM',\n",
       "       'NAMEFULL', 'NAMEHCR', 'REGAGNT', 'REPDTE', 'RSSDID', 'STALP', 'STCNTY',\n",
       "       'STNAME', 'ZIP', 'BKMO', 'LOC_NAME', 'STATUS', 'SCORE', 'x', 'y',\n",
       "       'GeocodeSou', 'STD_ADDR_B', 'STD_ADDR', 'ZIP4BR', 'geometry'],\n",
       "      dtype='object')"
      ]
     },
     "execution_count": 6,
     "metadata": {},
     "output_type": "execute_result"
    }
   ],
   "source": [
    "dict_geo['FDIC_Insured_Banks'].columns"
   ]
  },
  {
   "cell_type": "code",
   "execution_count": 7,
   "id": "3c28d1d4-6e68-4209-823d-d0c912ff5bfd",
   "metadata": {},
   "outputs": [
    {
     "data": {
      "text/plain": [
       "Index(['FID', 'FACILITYID', 'NAME', 'ADDRESS', 'CITY', 'STATE', 'ZIP', 'ZIP4',\n",
       "       'TELEPHONE', 'TYPE', 'STATUS', 'POPULATION', 'COUNTY', 'COUNTYFIPS',\n",
       "       'COUNTRY', 'NAICS_CODE', 'NAICS_DESC', 'SOURCE', 'SOURCEDATE',\n",
       "       'VAL_METHOD', 'VAL_DATE', 'WEBSITE', 'SECURELVL', 'CAPACITY',\n",
       "       'SHAPE_Leng', 'GlobalID', 'CreationDa', 'Creator', 'EditDate', 'Editor',\n",
       "       'SHAPE_Le_1', 'SHAPE_Area', 'geometry'],\n",
       "      dtype='object')"
      ]
     },
     "execution_count": 7,
     "metadata": {},
     "output_type": "execute_result"
    }
   ],
   "source": [
    "dict_geo['Prison_Boundaries'].columns"
   ]
  },
  {
   "cell_type": "code",
   "execution_count": 8,
   "id": "408c481c-bfb1-46ad-a266-3b3f2731cf2f",
   "metadata": {},
   "outputs": [
    {
     "data": {
      "text/plain": [
       "Index(['OBJECTID', 'PERMANENT_', 'SOURCE_FEA', 'SOURCE_DAT', 'SOURCE_D_1',\n",
       "       'SOURCE_ORI', 'DATA_SECUR', 'DISTRIBUTI', 'LOADDATE', 'FTYPE', 'FCODE',\n",
       "       'NAME', 'ISLANDMARK', 'POINTLOCAT', 'ADMINTYPE', 'ADDRESSBUI',\n",
       "       'ADDRESS', 'CITY', 'STATE', 'ZIPCODE', 'GNIS_ID', 'FOOT_ID',\n",
       "       'COMPLEX_ID', 'GLOBALID', 'geometry'],\n",
       "      dtype='object')"
      ]
     },
     "execution_count": 8,
     "metadata": {},
     "output_type": "execute_result"
    }
   ],
   "source": [
    "dict_geo['Fire_Stations'].columns"
   ]
  },
  {
   "cell_type": "markdown",
   "id": "3c3e650c-62ac-4217-b942-aa8e570b1705",
   "metadata": {},
   "source": [
    "## CRS"
   ]
  },
  {
   "cell_type": "code",
   "execution_count": 9,
   "id": "a386dd30-25bf-4032-8960-f2d6574fe9c6",
   "metadata": {},
   "outputs": [
    {
     "data": {
      "text/plain": [
       "<Geographic 2D CRS: EPSG:4326>\n",
       "Name: WGS 84\n",
       "Axis Info [ellipsoidal]:\n",
       "- Lat[north]: Geodetic latitude (degree)\n",
       "- Lon[east]: Geodetic longitude (degree)\n",
       "Area of Use:\n",
       "- name: World.\n",
       "- bounds: (-180.0, -90.0, 180.0, 90.0)\n",
       "Datum: World Geodetic System 1984 ensemble\n",
       "- Ellipsoid: WGS 84\n",
       "- Prime Meridian: Greenwich"
      ]
     },
     "execution_count": 9,
     "metadata": {},
     "output_type": "execute_result"
    }
   ],
   "source": [
    "dict_geo['FDIC_Insured_Banks'].crs"
   ]
  },
  {
   "cell_type": "code",
   "execution_count": 10,
   "id": "5997ef62-6e5b-4df8-b0be-5c6fcad67890",
   "metadata": {},
   "outputs": [
    {
     "data": {
      "text/plain": [
       "<Projected CRS: EPSG:3857>\n",
       "Name: WGS 84 / Pseudo-Mercator\n",
       "Axis Info [cartesian]:\n",
       "- X[east]: Easting (metre)\n",
       "- Y[north]: Northing (metre)\n",
       "Area of Use:\n",
       "- name: World between 85.06°S and 85.06°N.\n",
       "- bounds: (-180.0, -85.06, 180.0, 85.06)\n",
       "Coordinate Operation:\n",
       "- name: Popular Visualisation Pseudo-Mercator\n",
       "- method: Popular Visualisation Pseudo Mercator\n",
       "Datum: World Geodetic System 1984 ensemble\n",
       "- Ellipsoid: WGS 84\n",
       "- Prime Meridian: Greenwich"
      ]
     },
     "execution_count": 10,
     "metadata": {},
     "output_type": "execute_result"
    }
   ],
   "source": [
    "dict_geo['Prison_Boundaries'].crs"
   ]
  },
  {
   "cell_type": "markdown",
   "id": "86bc0716-6bdf-416e-a18c-e41f305e14bd",
   "metadata": {},
   "source": [
    "# Full Address String\n",
    "* Output full address string (Street, City, State ZIP) for each GeoDataFrame"
   ]
  },
  {
   "cell_type": "code",
   "execution_count": 11,
   "id": "074c023a-0c8f-42c5-9497-a5c60ffb59e3",
   "metadata": {},
   "outputs": [],
   "source": [
    "def full_address(df):\n",
    "    \"\"\"\n",
    "    Concatenate each address component to a full address string\n",
    "         (Street, City, State ZIP)\n",
    "         \n",
    "    Parameters\n",
    "    ----------\n",
    "        df (GeoDataFrame)\n",
    "\n",
    "    Returns\n",
    "    -------\n",
    "        df (GeoDataFrame): with 'full_address' column\n",
    "    \"\"\"\n",
    "    if 'ZIP' in df.columns:\n",
    "        zip_col = 'ZIP'\n",
    "    else:\n",
    "        zip_col = 'ZIPCODE'\n",
    "\n",
    "    if 'STATE' in df.columns:\n",
    "        state_col = 'STATE'\n",
    "    else:\n",
    "        state_col = 'STNAME'\n",
    "\n",
    "    if 'ADDRESS' in df.columns:\n",
    "        addr_col = 'ADDRESS'\n",
    "    elif 'ADDRESS' not in df.columns:\n",
    "        addr_col = 'STREET'\n",
    "    elif ('STREET' not in df.columns) and ('ADDRESS' not in df.columns):\n",
    "        addr_col = 'STD_ADDR_B'\n",
    "\n",
    "    # add 0 to zip code if only 4 digits\n",
    "    df['zip'] = df[zip_col].astype('str')\n",
    "    df['zip'] = df['zip'].apply(lambda x: '0' + x if len(x) <5 else x)\n",
    "    \n",
    "    df[addr_col] = df[addr_col].astype('str')\n",
    "    df['CITY'] = df['CITY'].astype('str')\n",
    "    df[state_col] = df[state_col].astype('str')\n",
    "    \n",
    "    df['Full_Address'] = df[[addr_col, 'CITY', state_col]].fillna('NaN').agg(', '.join, axis=1) + ' ' + df['zip']\n",
    "    df['Full_Address'] = df['Full_Address'].astype('str')\n",
    "             \n",
    "    return df"
   ]
  },
  {
   "cell_type": "code",
   "execution_count": 12,
   "id": "44217337-fd45-4f9e-a21b-39c42014df0d",
   "metadata": {},
   "outputs": [
    {
     "name": "stdout",
     "output_type": "stream",
     "text": [
      "AllPlacesOfWorship\n",
      "CollegesUniversities\n",
      "FDIC_Insured_Banks\n",
      "Fire_Stations\n",
      "Hospitals\n",
      "Prison_Boundaries\n",
      "PublicSchools\n",
      "UrgentCareFacs\n",
      "CPU times: total: 125 ms\n",
      "Wall time: 320 ms\n"
     ]
    }
   ],
   "source": [
    "%%time\n",
    "dict_address = {}\n",
    "for fname in dict_geo:\n",
    "    print(fname)\n",
    "    dict_address[fname] = full_address(dict_geo[fname])"
   ]
  },
  {
   "cell_type": "markdown",
   "id": "151b1bb5-2ed1-477c-89f4-f3f4d2ccb419",
   "metadata": {},
   "source": [
    "# Calculate Latitutde / Longitude\n",
    "1. Convert each GeoDataFrame to 'EPSG:4326'\n",
    "2. Calculate centroids from geometry in each GeoDataFrame\n",
    "3. Extract latitude and longitude from each centroid"
   ]
  },
  {
   "cell_type": "code",
   "execution_count": 13,
   "id": "0705f4cd-d4f2-4b64-ad2c-20d0749bbdd7",
   "metadata": {},
   "outputs": [],
   "source": [
    "def convert_EPSG4326(dict):\n",
    "    \"\"\"\n",
    "    Convert each GeoDataFrame to 'EPSG:4326'\n",
    "         \n",
    "    Parameters\n",
    "    ----------\n",
    "        dict (dictionary): of GeoDataFrames\n",
    "\n",
    "    Returns\n",
    "    -------\n",
    "        dict (dictionary): GeoDataFrames of 'EPSG:4326' CRS\n",
    "    \"\"\"\n",
    "    for fname in dict:\n",
    "        dict[fname] = dict[fname].to_crs(\"EPSG:4326\")\n",
    "\n",
    "    return dict"
   ]
  },
  {
   "cell_type": "code",
   "execution_count": 14,
   "id": "15d03984-4369-4a52-a779-748dc3542b10",
   "metadata": {},
   "outputs": [],
   "source": [
    "def get_centroid(dict):\n",
    "    \"\"\"\n",
    "    Convert each GeoDataFrame to 'EPSG:4326'\n",
    "         \n",
    "    Parameters\n",
    "    ----------\n",
    "        dict (dictionary): GeoDataFrames of 'EPSG:4326' CRS\n",
    "\n",
    "    Returns\n",
    "    -------\n",
    "        dict (dictionary): GeoDataFrames with extracted centroids from geoshapes\n",
    "    \"\"\"\n",
    "    dict_centroids = {}\n",
    "    for fname in dict:\n",
    "        if 'x' in dict[fname].columns:\n",
    "            dict[fname] = dict[fname].rename(columns={'x': 'source_lon', 'y': 'source_lat'})\n",
    "            dict[fname]['Place_type'] = os.path.basename(fname)\n",
    "            dict[fname]['source_centroid'] = dict[fname]['geometry']\n",
    "        else:\n",
    "            dict[fname]['source_centroid'] = dict[fname]['geometry'].centroid\n",
    "            dict[fname]['source_lon'] = dict[fname]['geometry'].centroid.x\n",
    "            dict[fname]['source_lat'] = dict[fname]['geometry'].centroid.y\n",
    "            dict[fname]['Place_type'] = os.path.basename(fname)\n",
    "\n",
    "        dict_centroids[fname] = keep_columns(dict[fname])\n",
    "        \n",
    "    return dict_centroids"
   ]
  },
  {
   "cell_type": "code",
   "execution_count": 15,
   "id": "29653dbd-9bd0-486e-b732-e2727e1218af",
   "metadata": {},
   "outputs": [],
   "source": [
    "def keep_columns(df):\n",
    "    \"\"\"\n",
    "    Convert each GeoDataFrame to 'EPSG:4326'\n",
    "         \n",
    "    Parameters\n",
    "    ----------\n",
    "        df (GeoDataFrame): GeoDataFrames of 'EPSG:4326' CRS with extracted centroids\n",
    "\n",
    "    Returns\n",
    "    -------\n",
    "        new_df (GeoDataFrame): GeoDataFrames with only source centroid and full address columns\n",
    "    \"\"\"\n",
    "    cols = ['Full_Address', 'Place_type', 'source_centroid', 'source_lon', 'source_lat']\n",
    "    new_df = df[cols]\n",
    "\n",
    "    return new_df"
   ]
  },
  {
   "cell_type": "code",
   "execution_count": 16,
   "id": "e1e040ee-d00c-435f-8231-ab38636b2be8",
   "metadata": {},
   "outputs": [
    {
     "name": "stderr",
     "output_type": "stream",
     "text": [
      "C:\\Users\\bchan\\AppData\\Local\\Temp\\ipykernel_10708\\4286707561.py:20: UserWarning: Geometry is in a geographic CRS. Results from 'centroid' are likely incorrect. Use 'GeoSeries.to_crs()' to re-project geometries to a projected CRS before this operation.\n",
      "\n",
      "  dict[fname]['source_centroid'] = dict[fname]['geometry'].centroid\n",
      "C:\\Users\\bchan\\AppData\\Local\\Temp\\ipykernel_10708\\4286707561.py:21: UserWarning: Geometry is in a geographic CRS. Results from 'centroid' are likely incorrect. Use 'GeoSeries.to_crs()' to re-project geometries to a projected CRS before this operation.\n",
      "\n",
      "  dict[fname]['source_lon'] = dict[fname]['geometry'].centroid.x\n",
      "C:\\Users\\bchan\\AppData\\Local\\Temp\\ipykernel_10708\\4286707561.py:22: UserWarning: Geometry is in a geographic CRS. Results from 'centroid' are likely incorrect. Use 'GeoSeries.to_crs()' to re-project geometries to a projected CRS before this operation.\n",
      "\n",
      "  dict[fname]['source_lat'] = dict[fname]['geometry'].centroid.y\n",
      "C:\\Users\\bchan\\AppData\\Local\\Temp\\ipykernel_10708\\4286707561.py:20: UserWarning: Geometry is in a geographic CRS. Results from 'centroid' are likely incorrect. Use 'GeoSeries.to_crs()' to re-project geometries to a projected CRS before this operation.\n",
      "\n",
      "  dict[fname]['source_centroid'] = dict[fname]['geometry'].centroid\n",
      "C:\\Users\\bchan\\AppData\\Local\\Temp\\ipykernel_10708\\4286707561.py:21: UserWarning: Geometry is in a geographic CRS. Results from 'centroid' are likely incorrect. Use 'GeoSeries.to_crs()' to re-project geometries to a projected CRS before this operation.\n",
      "\n",
      "  dict[fname]['source_lon'] = dict[fname]['geometry'].centroid.x\n",
      "C:\\Users\\bchan\\AppData\\Local\\Temp\\ipykernel_10708\\4286707561.py:22: UserWarning: Geometry is in a geographic CRS. Results from 'centroid' are likely incorrect. Use 'GeoSeries.to_crs()' to re-project geometries to a projected CRS before this operation.\n",
      "\n",
      "  dict[fname]['source_lat'] = dict[fname]['geometry'].centroid.y\n",
      "C:\\Users\\bchan\\AppData\\Local\\Temp\\ipykernel_10708\\4286707561.py:20: UserWarning: Geometry is in a geographic CRS. Results from 'centroid' are likely incorrect. Use 'GeoSeries.to_crs()' to re-project geometries to a projected CRS before this operation.\n",
      "\n",
      "  dict[fname]['source_centroid'] = dict[fname]['geometry'].centroid\n",
      "C:\\Users\\bchan\\AppData\\Local\\Temp\\ipykernel_10708\\4286707561.py:21: UserWarning: Geometry is in a geographic CRS. Results from 'centroid' are likely incorrect. Use 'GeoSeries.to_crs()' to re-project geometries to a projected CRS before this operation.\n",
      "\n",
      "  dict[fname]['source_lon'] = dict[fname]['geometry'].centroid.x\n",
      "C:\\Users\\bchan\\AppData\\Local\\Temp\\ipykernel_10708\\4286707561.py:22: UserWarning: Geometry is in a geographic CRS. Results from 'centroid' are likely incorrect. Use 'GeoSeries.to_crs()' to re-project geometries to a projected CRS before this operation.\n",
      "\n",
      "  dict[fname]['source_lat'] = dict[fname]['geometry'].centroid.y\n",
      "C:\\Users\\bchan\\AppData\\Local\\Temp\\ipykernel_10708\\4286707561.py:20: UserWarning: Geometry is in a geographic CRS. Results from 'centroid' are likely incorrect. Use 'GeoSeries.to_crs()' to re-project geometries to a projected CRS before this operation.\n",
      "\n",
      "  dict[fname]['source_centroid'] = dict[fname]['geometry'].centroid\n",
      "C:\\Users\\bchan\\AppData\\Local\\Temp\\ipykernel_10708\\4286707561.py:21: UserWarning: Geometry is in a geographic CRS. Results from 'centroid' are likely incorrect. Use 'GeoSeries.to_crs()' to re-project geometries to a projected CRS before this operation.\n",
      "\n",
      "  dict[fname]['source_lon'] = dict[fname]['geometry'].centroid.x\n",
      "C:\\Users\\bchan\\AppData\\Local\\Temp\\ipykernel_10708\\4286707561.py:22: UserWarning: Geometry is in a geographic CRS. Results from 'centroid' are likely incorrect. Use 'GeoSeries.to_crs()' to re-project geometries to a projected CRS before this operation.\n",
      "\n",
      "  dict[fname]['source_lat'] = dict[fname]['geometry'].centroid.y\n",
      "C:\\Users\\bchan\\AppData\\Local\\Temp\\ipykernel_10708\\4286707561.py:20: UserWarning: Geometry is in a geographic CRS. Results from 'centroid' are likely incorrect. Use 'GeoSeries.to_crs()' to re-project geometries to a projected CRS before this operation.\n",
      "\n",
      "  dict[fname]['source_centroid'] = dict[fname]['geometry'].centroid\n",
      "C:\\Users\\bchan\\AppData\\Local\\Temp\\ipykernel_10708\\4286707561.py:21: UserWarning: Geometry is in a geographic CRS. Results from 'centroid' are likely incorrect. Use 'GeoSeries.to_crs()' to re-project geometries to a projected CRS before this operation.\n",
      "\n",
      "  dict[fname]['source_lon'] = dict[fname]['geometry'].centroid.x\n",
      "C:\\Users\\bchan\\AppData\\Local\\Temp\\ipykernel_10708\\4286707561.py:22: UserWarning: Geometry is in a geographic CRS. Results from 'centroid' are likely incorrect. Use 'GeoSeries.to_crs()' to re-project geometries to a projected CRS before this operation.\n",
      "\n",
      "  dict[fname]['source_lat'] = dict[fname]['geometry'].centroid.y\n",
      "C:\\Users\\bchan\\AppData\\Local\\Temp\\ipykernel_10708\\4286707561.py:20: UserWarning: Geometry is in a geographic CRS. Results from 'centroid' are likely incorrect. Use 'GeoSeries.to_crs()' to re-project geometries to a projected CRS before this operation.\n",
      "\n",
      "  dict[fname]['source_centroid'] = dict[fname]['geometry'].centroid\n",
      "C:\\Users\\bchan\\AppData\\Local\\Temp\\ipykernel_10708\\4286707561.py:21: UserWarning: Geometry is in a geographic CRS. Results from 'centroid' are likely incorrect. Use 'GeoSeries.to_crs()' to re-project geometries to a projected CRS before this operation.\n",
      "\n",
      "  dict[fname]['source_lon'] = dict[fname]['geometry'].centroid.x\n",
      "C:\\Users\\bchan\\AppData\\Local\\Temp\\ipykernel_10708\\4286707561.py:22: UserWarning: Geometry is in a geographic CRS. Results from 'centroid' are likely incorrect. Use 'GeoSeries.to_crs()' to re-project geometries to a projected CRS before this operation.\n",
      "\n",
      "  dict[fname]['source_lat'] = dict[fname]['geometry'].centroid.y\n",
      "C:\\Users\\bchan\\AppData\\Local\\Temp\\ipykernel_10708\\4286707561.py:20: UserWarning: Geometry is in a geographic CRS. Results from 'centroid' are likely incorrect. Use 'GeoSeries.to_crs()' to re-project geometries to a projected CRS before this operation.\n",
      "\n",
      "  dict[fname]['source_centroid'] = dict[fname]['geometry'].centroid\n",
      "C:\\Users\\bchan\\AppData\\Local\\Temp\\ipykernel_10708\\4286707561.py:21: UserWarning: Geometry is in a geographic CRS. Results from 'centroid' are likely incorrect. Use 'GeoSeries.to_crs()' to re-project geometries to a projected CRS before this operation.\n",
      "\n",
      "  dict[fname]['source_lon'] = dict[fname]['geometry'].centroid.x\n",
      "C:\\Users\\bchan\\AppData\\Local\\Temp\\ipykernel_10708\\4286707561.py:22: UserWarning: Geometry is in a geographic CRS. Results from 'centroid' are likely incorrect. Use 'GeoSeries.to_crs()' to re-project geometries to a projected CRS before this operation.\n",
      "\n",
      "  dict[fname]['source_lat'] = dict[fname]['geometry'].centroid.y\n"
     ]
    }
   ],
   "source": [
    "# if you get an error on the first pass, try re-running the cell\n",
    "dict_EPSG4326 = convert_EPSG4326(dict_address)\n",
    "dict_centroid = get_centroid(dict_EPSG4326)"
   ]
  },
  {
   "cell_type": "code",
   "execution_count": 17,
   "id": "856e174e-a73a-4e88-944d-b672c58104c6",
   "metadata": {},
   "outputs": [
    {
     "data": {
      "text/html": [
       "<div>\n",
       "<style scoped>\n",
       "    .dataframe tbody tr th:only-of-type {\n",
       "        vertical-align: middle;\n",
       "    }\n",
       "\n",
       "    .dataframe tbody tr th {\n",
       "        vertical-align: top;\n",
       "    }\n",
       "\n",
       "    .dataframe thead th {\n",
       "        text-align: right;\n",
       "    }\n",
       "</style>\n",
       "<table border=\"1\" class=\"dataframe\">\n",
       "  <thead>\n",
       "    <tr style=\"text-align: right;\">\n",
       "      <th></th>\n",
       "      <th>Full_Address</th>\n",
       "      <th>Place_type</th>\n",
       "      <th>source_centroid</th>\n",
       "      <th>source_lon</th>\n",
       "      <th>source_lat</th>\n",
       "    </tr>\n",
       "  </thead>\n",
       "  <tbody>\n",
       "    <tr>\n",
       "      <th>0</th>\n",
       "      <td>100 North Tryon St, Charlotte, North Carolina ...</td>\n",
       "      <td>FDIC_Insured_Banks</td>\n",
       "      <td>POINT (-72.87865 41.60144)</td>\n",
       "      <td>-72.878648</td>\n",
       "      <td>41.601435</td>\n",
       "    </tr>\n",
       "    <tr>\n",
       "      <th>1</th>\n",
       "      <td>100 North Tryon St, Charlotte, North Carolina ...</td>\n",
       "      <td>FDIC_Insured_Banks</td>\n",
       "      <td>POINT (-70.25667 43.65743)</td>\n",
       "      <td>-70.256668</td>\n",
       "      <td>43.657432</td>\n",
       "    </tr>\n",
       "    <tr>\n",
       "      <th>2</th>\n",
       "      <td>2 Elm Street, Camden, Maine 04843</td>\n",
       "      <td>FDIC_Insured_Banks</td>\n",
       "      <td>POINT (-68.42462 44.54133)</td>\n",
       "      <td>-68.424621</td>\n",
       "      <td>44.541326</td>\n",
       "    </tr>\n",
       "    <tr>\n",
       "      <th>3</th>\n",
       "      <td>1 Lincoln St. Fl 1, Boston, Massachusetts 02111</td>\n",
       "      <td>FDIC_Insured_Banks</td>\n",
       "      <td>POINT (-71.05796 42.35282)</td>\n",
       "      <td>-71.057959</td>\n",
       "      <td>42.352824</td>\n",
       "    </tr>\n",
       "    <tr>\n",
       "      <th>4</th>\n",
       "      <td>100 North Tryon St, Charlotte, North Carolina ...</td>\n",
       "      <td>FDIC_Insured_Banks</td>\n",
       "      <td>POINT (-71.11891 42.37383)</td>\n",
       "      <td>-71.118913</td>\n",
       "      <td>42.373832</td>\n",
       "    </tr>\n",
       "    <tr>\n",
       "      <th>...</th>\n",
       "      <td>...</td>\n",
       "      <td>...</td>\n",
       "      <td>...</td>\n",
       "      <td>...</td>\n",
       "      <td>...</td>\n",
       "    </tr>\n",
       "    <tr>\n",
       "      <th>4995</th>\n",
       "      <td>239 Fayetteville Street, Raleigh, North Caroli...</td>\n",
       "      <td>FDIC_Insured_Banks</td>\n",
       "      <td>POINT (-78.19045 38.91756)</td>\n",
       "      <td>-78.190446</td>\n",
       "      <td>38.917555</td>\n",
       "    </tr>\n",
       "    <tr>\n",
       "      <th>4996</th>\n",
       "      <td>303 Peachtreet Street, Northeast, Atlanta, Geo...</td>\n",
       "      <td>FDIC_Insured_Banks</td>\n",
       "      <td>POINT (-78.90147 36.69783)</td>\n",
       "      <td>-78.901473</td>\n",
       "      <td>36.697827</td>\n",
       "    </tr>\n",
       "    <tr>\n",
       "      <th>4997</th>\n",
       "      <td>5758 Main Street, Auburndale, Wisconsin 54412</td>\n",
       "      <td>FDIC_Insured_Banks</td>\n",
       "      <td>POINT (-90.00738 44.62711)</td>\n",
       "      <td>-90.007378</td>\n",
       "      <td>44.627107</td>\n",
       "    </tr>\n",
       "    <tr>\n",
       "      <th>4998</th>\n",
       "      <td>1905 West Stewart Avenue, Wausau, Wisconsin 54401</td>\n",
       "      <td>FDIC_Insured_Banks</td>\n",
       "      <td>POINT (-89.39419 45.63304)</td>\n",
       "      <td>-89.394191</td>\n",
       "      <td>45.633037</td>\n",
       "    </tr>\n",
       "    <tr>\n",
       "      <th>4999</th>\n",
       "      <td>86 East Water Street, Markesan, Wisconsin 53946</td>\n",
       "      <td>FDIC_Insured_Banks</td>\n",
       "      <td>POINT (-88.90963 43.56596)</td>\n",
       "      <td>-88.909629</td>\n",
       "      <td>43.565964</td>\n",
       "    </tr>\n",
       "  </tbody>\n",
       "</table>\n",
       "<p>5000 rows × 5 columns</p>\n",
       "</div>"
      ],
      "text/plain": [
       "                                           Full_Address          Place_type  \\\n",
       "0     100 North Tryon St, Charlotte, North Carolina ...  FDIC_Insured_Banks   \n",
       "1     100 North Tryon St, Charlotte, North Carolina ...  FDIC_Insured_Banks   \n",
       "2                     2 Elm Street, Camden, Maine 04843  FDIC_Insured_Banks   \n",
       "3       1 Lincoln St. Fl 1, Boston, Massachusetts 02111  FDIC_Insured_Banks   \n",
       "4     100 North Tryon St, Charlotte, North Carolina ...  FDIC_Insured_Banks   \n",
       "...                                                 ...                 ...   \n",
       "4995  239 Fayetteville Street, Raleigh, North Caroli...  FDIC_Insured_Banks   \n",
       "4996  303 Peachtreet Street, Northeast, Atlanta, Geo...  FDIC_Insured_Banks   \n",
       "4997      5758 Main Street, Auburndale, Wisconsin 54412  FDIC_Insured_Banks   \n",
       "4998  1905 West Stewart Avenue, Wausau, Wisconsin 54401  FDIC_Insured_Banks   \n",
       "4999    86 East Water Street, Markesan, Wisconsin 53946  FDIC_Insured_Banks   \n",
       "\n",
       "                 source_centroid  source_lon  source_lat  \n",
       "0     POINT (-72.87865 41.60144)  -72.878648   41.601435  \n",
       "1     POINT (-70.25667 43.65743)  -70.256668   43.657432  \n",
       "2     POINT (-68.42462 44.54133)  -68.424621   44.541326  \n",
       "3     POINT (-71.05796 42.35282)  -71.057959   42.352824  \n",
       "4     POINT (-71.11891 42.37383)  -71.118913   42.373832  \n",
       "...                          ...         ...         ...  \n",
       "4995  POINT (-78.19045 38.91756)  -78.190446   38.917555  \n",
       "4996  POINT (-78.90147 36.69783)  -78.901473   36.697827  \n",
       "4997  POINT (-90.00738 44.62711)  -90.007378   44.627107  \n",
       "4998  POINT (-89.39419 45.63304)  -89.394191   45.633037  \n",
       "4999  POINT (-88.90963 43.56596)  -88.909629   43.565964  \n",
       "\n",
       "[5000 rows x 5 columns]"
      ]
     },
     "execution_count": 17,
     "metadata": {},
     "output_type": "execute_result"
    }
   ],
   "source": [
    "# check centroids\n",
    "dict_centroid['FDIC_Insured_Banks']"
   ]
  },
  {
   "cell_type": "markdown",
   "id": "435b53b6-a9cd-4e4f-bd57-24bce7b401a5",
   "metadata": {},
   "source": [
    "# Save Geoshape Files"
   ]
  },
  {
   "cell_type": "code",
   "execution_count": 18,
   "id": "ba8f8238-d384-47fa-8a71-876ed6353cd2",
   "metadata": {},
   "outputs": [],
   "source": [
    "def save_shp(dict, save_dir):\n",
    "    \"\"\"\n",
    "    Save each GeoDataFrame to individual geoshape files\n",
    "         \n",
    "    Parameters\n",
    "    ----------\n",
    "        dict (dictionary): GeoDataFrames of 'EPSG:4326' CRS with extracted centroids\n",
    "        save_dir (str): path of desired output directory\n",
    "    \"\"\"\n",
    "    for fname in dict:\n",
    "        shp_file = dict[fname].set_geometry('source_centroid')\n",
    "        \n",
    "        save_path = os.path.join(save_dir, f\"{fname}\")\n",
    "        create_dir(save_path)\n",
    "        \n",
    "        shp_file.to_file(save_path, driver='ESRI Shapefile')"
   ]
  },
  {
   "cell_type": "code",
   "execution_count": 19,
   "id": "32f5379e-3213-43de-a94c-f9e7d5d3ce7a",
   "metadata": {},
   "outputs": [],
   "source": [
    "def create_dir(save_dir):\n",
    "    \"\"\"\n",
    "    Creates directory if it does not exist\n",
    "         \n",
    "    Parameters\n",
    "    ----------\n",
    "        save_dir (str): path of desired output directory\n",
    "    \"\"\"\n",
    "    if not os.path.exists(save_dir):\n",
    "        os.makedirs(save_dir)"
   ]
  },
  {
   "cell_type": "code",
   "execution_count": 20,
   "id": "1e03f832-d0d2-414c-9c5d-e29a491a7083",
   "metadata": {},
   "outputs": [
    {
     "name": "stderr",
     "output_type": "stream",
     "text": [
      "C:\\Users\\bchan\\AppData\\Local\\Temp\\ipykernel_10708\\2389177360.py:16: UserWarning: Column names longer than 10 characters will be truncated when saved to ESRI Shapefile.\n",
      "  shp_file.to_file(save_path, driver='ESRI Shapefile')\n",
      "C:\\Users\\bchan\\AppData\\Local\\Temp\\ipykernel_10708\\2389177360.py:16: UserWarning: Column names longer than 10 characters will be truncated when saved to ESRI Shapefile.\n",
      "  shp_file.to_file(save_path, driver='ESRI Shapefile')\n",
      "C:\\Users\\bchan\\AppData\\Local\\Temp\\ipykernel_10708\\2389177360.py:16: UserWarning: Column names longer than 10 characters will be truncated when saved to ESRI Shapefile.\n",
      "  shp_file.to_file(save_path, driver='ESRI Shapefile')\n",
      "C:\\Users\\bchan\\AppData\\Local\\Temp\\ipykernel_10708\\2389177360.py:16: UserWarning: Column names longer than 10 characters will be truncated when saved to ESRI Shapefile.\n",
      "  shp_file.to_file(save_path, driver='ESRI Shapefile')\n",
      "C:\\Users\\bchan\\AppData\\Local\\Temp\\ipykernel_10708\\2389177360.py:16: UserWarning: Column names longer than 10 characters will be truncated when saved to ESRI Shapefile.\n",
      "  shp_file.to_file(save_path, driver='ESRI Shapefile')\n",
      "C:\\Users\\bchan\\AppData\\Local\\Temp\\ipykernel_10708\\2389177360.py:16: UserWarning: Column names longer than 10 characters will be truncated when saved to ESRI Shapefile.\n",
      "  shp_file.to_file(save_path, driver='ESRI Shapefile')\n",
      "C:\\Users\\bchan\\AppData\\Local\\Temp\\ipykernel_10708\\2389177360.py:16: UserWarning: Column names longer than 10 characters will be truncated when saved to ESRI Shapefile.\n",
      "  shp_file.to_file(save_path, driver='ESRI Shapefile')\n",
      "C:\\Users\\bchan\\AppData\\Local\\Temp\\ipykernel_10708\\2389177360.py:16: UserWarning: Column names longer than 10 characters will be truncated when saved to ESRI Shapefile.\n",
      "  shp_file.to_file(save_path, driver='ESRI Shapefile')\n"
     ]
    }
   ],
   "source": [
    "# save files\n",
    "save_dir = os.path.join(abs_path, 'output/HIFLD/centroids')\n",
    "create_dir(save_dir)\n",
    "\n",
    "save_shp(dict_centroid, save_dir)"
   ]
  },
  {
   "cell_type": "code",
   "execution_count": 21,
   "id": "c4538a8d-9b9d-4ae2-9dc1-7003aa6d6ca6",
   "metadata": {},
   "outputs": [
    {
     "data": {
      "text/html": [
       "<div>\n",
       "<style scoped>\n",
       "    .dataframe tbody tr th:only-of-type {\n",
       "        vertical-align: middle;\n",
       "    }\n",
       "\n",
       "    .dataframe tbody tr th {\n",
       "        vertical-align: top;\n",
       "    }\n",
       "\n",
       "    .dataframe thead th {\n",
       "        text-align: right;\n",
       "    }\n",
       "</style>\n",
       "<table border=\"1\" class=\"dataframe\">\n",
       "  <thead>\n",
       "    <tr style=\"text-align: right;\">\n",
       "      <th></th>\n",
       "      <th>Full_Address</th>\n",
       "      <th>Place_type</th>\n",
       "      <th>source_centroid</th>\n",
       "      <th>source_lon</th>\n",
       "      <th>source_lat</th>\n",
       "    </tr>\n",
       "  </thead>\n",
       "  <tbody>\n",
       "    <tr>\n",
       "      <th>0</th>\n",
       "      <td>523 E BROADWAY, SOUTH BOSTON, MA 02127</td>\n",
       "      <td>AllPlacesOfWorship</td>\n",
       "      <td>POINT (-71.04352 42.33547)</td>\n",
       "      <td>-71.043522</td>\n",
       "      <td>42.335472</td>\n",
       "    </tr>\n",
       "    <tr>\n",
       "      <th>1</th>\n",
       "      <td>454 ESSEX ST, LAWRENCE, MA 01840</td>\n",
       "      <td>AllPlacesOfWorship</td>\n",
       "      <td>POINT (-71.16494 42.70621)</td>\n",
       "      <td>-71.164940</td>\n",
       "      <td>42.706213</td>\n",
       "    </tr>\n",
       "    <tr>\n",
       "      <th>2</th>\n",
       "      <td>569 BROADWAY, NEWARK, NJ 07104</td>\n",
       "      <td>AllPlacesOfWorship</td>\n",
       "      <td>POINT (-74.16282 40.76993)</td>\n",
       "      <td>-74.162821</td>\n",
       "      <td>40.769935</td>\n",
       "    </tr>\n",
       "    <tr>\n",
       "      <th>3</th>\n",
       "      <td>3210 SOUTHWESTERN BLVD, ORCHARD PARK, NY 14127</td>\n",
       "      <td>AllPlacesOfWorship</td>\n",
       "      <td>POINT (-78.74782 42.79853)</td>\n",
       "      <td>-78.747816</td>\n",
       "      <td>42.798535</td>\n",
       "    </tr>\n",
       "    <tr>\n",
       "      <th>4</th>\n",
       "      <td>431 CAMPGROUND RD, LIVERMORE FLS, ME 04254</td>\n",
       "      <td>AllPlacesOfWorship</td>\n",
       "      <td>POINT (-70.11378 44.42861)</td>\n",
       "      <td>-70.113777</td>\n",
       "      <td>44.428610</td>\n",
       "    </tr>\n",
       "    <tr>\n",
       "      <th>...</th>\n",
       "      <td>...</td>\n",
       "      <td>...</td>\n",
       "      <td>...</td>\n",
       "      <td>...</td>\n",
       "      <td>...</td>\n",
       "    </tr>\n",
       "    <tr>\n",
       "      <th>4805</th>\n",
       "      <td>1300 PEACHTREE INDUSTRIAL BOULEVARD, SUWANEE, ...</td>\n",
       "      <td>UrgentCareFacs</td>\n",
       "      <td>POINT (-84.09517 34.04173)</td>\n",
       "      <td>-84.095174</td>\n",
       "      <td>34.041727</td>\n",
       "    </tr>\n",
       "    <tr>\n",
       "      <th>4806</th>\n",
       "      <td>2660 SATELLITE BOULEVARD NORTHWEST, DULUTH, GA...</td>\n",
       "      <td>UrgentCareFacs</td>\n",
       "      <td>POINT (-84.10132 33.96680)</td>\n",
       "      <td>-84.101318</td>\n",
       "      <td>33.966797</td>\n",
       "    </tr>\n",
       "    <tr>\n",
       "      <th>4807</th>\n",
       "      <td>3685 BRASELTON HIGHWAY, DACULA, GA 30019</td>\n",
       "      <td>UrgentCareFacs</td>\n",
       "      <td>POINT (-83.90222 34.06883)</td>\n",
       "      <td>-83.902215</td>\n",
       "      <td>34.068832</td>\n",
       "    </tr>\n",
       "    <tr>\n",
       "      <th>4808</th>\n",
       "      <td>1055 DOVE RUN ROAD, LEXINGTON, KY 40502</td>\n",
       "      <td>UrgentCareFacs</td>\n",
       "      <td>POINT (-84.49411 37.99651)</td>\n",
       "      <td>-84.494106</td>\n",
       "      <td>37.996508</td>\n",
       "    </tr>\n",
       "    <tr>\n",
       "      <th>4809</th>\n",
       "      <td>1811 SCHNEIDER STREET NORTHEAST, CANTON, OH 44721</td>\n",
       "      <td>UrgentCareFacs</td>\n",
       "      <td>POINT (-81.35019 40.86916)</td>\n",
       "      <td>-81.350192</td>\n",
       "      <td>40.869155</td>\n",
       "    </tr>\n",
       "  </tbody>\n",
       "</table>\n",
       "<p>39810 rows × 5 columns</p>\n",
       "</div>"
      ],
      "text/plain": [
       "                                           Full_Address          Place_type  \\\n",
       "0                523 E BROADWAY, SOUTH BOSTON, MA 02127  AllPlacesOfWorship   \n",
       "1                      454 ESSEX ST, LAWRENCE, MA 01840  AllPlacesOfWorship   \n",
       "2                        569 BROADWAY, NEWARK, NJ 07104  AllPlacesOfWorship   \n",
       "3        3210 SOUTHWESTERN BLVD, ORCHARD PARK, NY 14127  AllPlacesOfWorship   \n",
       "4            431 CAMPGROUND RD, LIVERMORE FLS, ME 04254  AllPlacesOfWorship   \n",
       "...                                                 ...                 ...   \n",
       "4805  1300 PEACHTREE INDUSTRIAL BOULEVARD, SUWANEE, ...      UrgentCareFacs   \n",
       "4806  2660 SATELLITE BOULEVARD NORTHWEST, DULUTH, GA...      UrgentCareFacs   \n",
       "4807           3685 BRASELTON HIGHWAY, DACULA, GA 30019      UrgentCareFacs   \n",
       "4808            1055 DOVE RUN ROAD, LEXINGTON, KY 40502      UrgentCareFacs   \n",
       "4809  1811 SCHNEIDER STREET NORTHEAST, CANTON, OH 44721      UrgentCareFacs   \n",
       "\n",
       "                 source_centroid  source_lon  source_lat  \n",
       "0     POINT (-71.04352 42.33547)  -71.043522   42.335472  \n",
       "1     POINT (-71.16494 42.70621)  -71.164940   42.706213  \n",
       "2     POINT (-74.16282 40.76993)  -74.162821   40.769935  \n",
       "3     POINT (-78.74782 42.79853)  -78.747816   42.798535  \n",
       "4     POINT (-70.11378 44.42861)  -70.113777   44.428610  \n",
       "...                          ...         ...         ...  \n",
       "4805  POINT (-84.09517 34.04173)  -84.095174   34.041727  \n",
       "4806  POINT (-84.10132 33.96680)  -84.101318   33.966797  \n",
       "4807  POINT (-83.90222 34.06883)  -83.902215   34.068832  \n",
       "4808  POINT (-84.49411 37.99651)  -84.494106   37.996508  \n",
       "4809  POINT (-81.35019 40.86916)  -81.350192   40.869155  \n",
       "\n",
       "[39810 rows x 5 columns]"
      ]
     },
     "execution_count": 21,
     "metadata": {},
     "output_type": "execute_result"
    }
   ],
   "source": [
    "gpd_concat = pd.concat([dict_centroid[fname] for fname in dict_centroid])\n",
    "gpd_concat"
   ]
  },
  {
   "cell_type": "code",
   "execution_count": 22,
   "id": "9e29598d-457d-404f-85fe-1cbf88fbe467",
   "metadata": {},
   "outputs": [],
   "source": [
    "gpd_concat.to_csv(os.path.join(save_dir, \"centroids_40k.csv\"), index=False)"
   ]
  },
  {
   "cell_type": "code",
   "execution_count": null,
   "id": "d5ab938a-850d-4c00-89b6-2be23f8fa5cc",
   "metadata": {},
   "outputs": [],
   "source": []
  }
 ],
 "metadata": {
  "kernelspec": {
   "display_name": "Python 3 (ipykernel)",
   "language": "python",
   "name": "python3"
  },
  "language_info": {
   "codemirror_mode": {
    "name": "ipython",
    "version": 3
   },
   "file_extension": ".py",
   "mimetype": "text/x-python",
   "name": "python",
   "nbconvert_exporter": "python",
   "pygments_lexer": "ipython3",
   "version": "3.11.7"
  }
 },
 "nbformat": 4,
 "nbformat_minor": 5
}
